{
 "cells": [
  {
   "cell_type": "markdown",
   "id": "prompt-parallel",
   "metadata": {},
   "source": [
    "## [10 Questions] QUIZ - Conditional Statements - SOLUTION"
   ]
  },
  {
   "cell_type": "markdown",
   "id": "disabled-study",
   "metadata": {},
   "source": [
    "**Q 1:**\n",
    "\n",
    "Ask the user to enter a number.\n",
    "\n",
    "Find out if this number is Odd or Even."
   ]
  },
  {
   "cell_type": "code",
   "execution_count": 2,
   "id": "phantom-parade",
   "metadata": {},
   "outputs": [
    {
     "name": "stdin",
     "output_type": "stream",
     "text": [
      "Please enter a number:  7\n"
     ]
    },
    {
     "name": "stdout",
     "output_type": "stream",
     "text": [
      "7 is ODD\n"
     ]
    }
   ],
   "source": [
    "# S 1:\n",
    "\n",
    "# ask for number\n",
    "num = int(input(\"Please enter a number: \"))\n",
    "\n",
    "# decide\n",
    "if num % 2 == 0:\n",
    "    print(num, \"is EVEN\")\n",
    "else:\n",
    "    print(num, \"is ODD\")\n",
    "    "
   ]
  },
  {
   "cell_type": "markdown",
   "id": "crazy-straight",
   "metadata": {},
   "source": [
    "---"
   ]
  },
  {
   "cell_type": "markdown",
   "id": "rising-invite",
   "metadata": {},
   "source": [
    "**Q 2:**\n",
    "\n",
    "Ask for a letter from the user.\n",
    "\n",
    "Find out if it is a vowel or consonant."
   ]
  },
  {
   "cell_type": "code",
   "execution_count": 5,
   "id": "present-shame",
   "metadata": {},
   "outputs": [
    {
     "name": "stdin",
     "output_type": "stream",
     "text": [
      "Please enter a letter:  e\n"
     ]
    },
    {
     "name": "stdout",
     "output_type": "stream",
     "text": [
      "VOWEL: e\n"
     ]
    }
   ],
   "source": [
    "# S 2:\n",
    "\n",
    "# ask for a letter\n",
    "letter = input(\"Please enter a letter: \")\n",
    "\n",
    "if letter == 'a' or letter == 'e' or letter == 'i' or letter == 'o' or letter == 'u':\n",
    "    print(\"VOWEL:\", letter)\n",
    "else:\n",
    "    print(\"CONSONANT:\", letter)\n",
    "    "
   ]
  },
  {
   "cell_type": "markdown",
   "id": "collected-bridal",
   "metadata": {},
   "source": [
    "---"
   ]
  },
  {
   "cell_type": "markdown",
   "id": "exterior-mississippi",
   "metadata": {},
   "source": [
    "**Q 3:**\n",
    "\n",
    "Define a function named **which_shape**.\n",
    "\n",
    "The function will ask a number from the user.\n",
    "\n",
    "It will decide the name of the shape according to that number, and return that name.\n",
    "\n",
    "Sides & Shapes:\n",
    "* 3 - Triangle\n",
    "* 4 - Rectangle\n",
    "* 5 - Pentagon\n",
    "* 6 - Hexagon\n",
    "* 7 and more - Polygon"
   ]
  },
  {
   "cell_type": "code",
   "execution_count": 7,
   "id": "signal-hearing",
   "metadata": {},
   "outputs": [],
   "source": [
    "# S 3:\n",
    "\n",
    "def which_shape():\n",
    "    \"\"\"\n",
    "    Asks for a number and returns the name of the shape.\n",
    "    Parameters: None\n",
    "    Returns: str shape_name\n",
    "    \"\"\"\n",
    "\n",
    "    # get the number\n",
    "    number_of_sides = int(input(\"Please enter the number of sides: \"))\n",
    "    \n",
    "    # define a variable to keep the shape name\n",
    "    shape_name = \"\"\n",
    "    \n",
    "    if number_of_sides == 3:\n",
    "        shape_name = 'Triangle'\n",
    "    elif number_of_sides == 4:\n",
    "        shape_name = 'Rectangle'\n",
    "    elif number_of_sides == 5:\n",
    "        shape_name = 'Pentagon'\n",
    "    elif number_of_sides == 6:\n",
    "        shape_name = 'Hexagon'\n",
    "    else:\n",
    "        shape_name = 'Polygon'\n",
    "    \n",
    "    # return the shape name\n",
    "    return shape_name\n",
    "    "
   ]
  },
  {
   "cell_type": "code",
   "execution_count": 10,
   "id": "verbal-transmission",
   "metadata": {},
   "outputs": [
    {
     "name": "stdin",
     "output_type": "stream",
     "text": [
      "Please enter the number of sides:  9\n"
     ]
    },
    {
     "name": "stdout",
     "output_type": "stream",
     "text": [
      "Polygon\n"
     ]
    }
   ],
   "source": [
    "shape = which_shape()\n",
    "print(shape)"
   ]
  },
  {
   "cell_type": "markdown",
   "id": "studied-shareware",
   "metadata": {},
   "source": [
    "---"
   ]
  },
  {
   "cell_type": "markdown",
   "id": "exclusive-neighborhood",
   "metadata": {},
   "source": [
    "**Q 4:**\n",
    "\n",
    "Define a function to print the number of days in the given month.\n",
    "\n",
    "Function name will be **number_of_days_in_month**.\n",
    "\n",
    "It will ask month name from the user.\n",
    "\n",
    "Number of Days in Gregorian Calendar:\n",
    "* January - 31\n",
    "* February - 28 or 29\n",
    "* March - 31\n",
    "* April - 30\n",
    "* May - 31\n",
    "* June - 30\n",
    "* July - 31\n",
    "* August - 31\n",
    "* September - 30\n",
    "* October - 31\n",
    "* November - 30\n",
    "* December - 31\n",
    "\n",
    "<pre>\n",
    "Expected Output:\n",
    "Please enter the month name:  October\n",
    "'There are 31 days in October'\n",
    "</pre>"
   ]
  },
  {
   "cell_type": "code",
   "execution_count": 15,
   "id": "lucky-wiring",
   "metadata": {},
   "outputs": [],
   "source": [
    "# S 4:\n",
    "\n",
    "def number_of_days_in_month():\n",
    "    \n",
    "    # variable for number of days\n",
    "    days = 31\n",
    "    \n",
    "    # ask for the month\n",
    "    month = input(\"Please enter the month name: \")\n",
    "    \n",
    "    # Now check months with number of days 28-29, 30 and 31\n",
    "    \n",
    "    if month == 'April' or month == 'June' or \\\n",
    "       month == 'September' or month == 'November':\n",
    "        days = 30\n",
    "    elif month == 'February':\n",
    "        days = '28 or 29'\n",
    "        \n",
    "    return 'There are ' + str(days) + ' days in ' + str(month)\n"
   ]
  },
  {
   "cell_type": "code",
   "execution_count": 12,
   "id": "endless-scroll",
   "metadata": {},
   "outputs": [
    {
     "name": "stdin",
     "output_type": "stream",
     "text": [
      "Please enter the month name:  February\n"
     ]
    },
    {
     "data": {
      "text/plain": [
       "'There are 28 or 29 days in February'"
      ]
     },
     "execution_count": 12,
     "metadata": {},
     "output_type": "execute_result"
    }
   ],
   "source": [
    "number_of_days_in_month()"
   ]
  },
  {
   "cell_type": "code",
   "execution_count": 13,
   "id": "later-summer",
   "metadata": {},
   "outputs": [
    {
     "name": "stdin",
     "output_type": "stream",
     "text": [
      "Please enter the month name:  March\n"
     ]
    },
    {
     "ename": "TypeError",
     "evalue": "can only concatenate str (not \"int\") to str",
     "output_type": "error",
     "traceback": [
      "\u001b[1;31m---------------------------------------------------------------------------\u001b[0m",
      "\u001b[1;31mTypeError\u001b[0m                                 Traceback (most recent call last)",
      "\u001b[1;32m<ipython-input-13-783a14489602>\u001b[0m in \u001b[0;36m<module>\u001b[1;34m\u001b[0m\n\u001b[1;32m----> 1\u001b[1;33m \u001b[0mnumber_of_days_in_month\u001b[0m\u001b[1;33m(\u001b[0m\u001b[1;33m)\u001b[0m\u001b[1;33m\u001b[0m\u001b[1;33m\u001b[0m\u001b[0m\n\u001b[0m",
      "\u001b[1;32m<ipython-input-11-915a772d2ba0>\u001b[0m in \u001b[0;36mnumber_of_days_in_month\u001b[1;34m()\u001b[0m\n\u001b[0;32m     17\u001b[0m         \u001b[0mdays\u001b[0m \u001b[1;33m=\u001b[0m \u001b[1;34m'28 or 29'\u001b[0m\u001b[1;33m\u001b[0m\u001b[1;33m\u001b[0m\u001b[0m\n\u001b[0;32m     18\u001b[0m \u001b[1;33m\u001b[0m\u001b[0m\n\u001b[1;32m---> 19\u001b[1;33m     \u001b[1;32mreturn\u001b[0m \u001b[1;34m'There are '\u001b[0m \u001b[1;33m+\u001b[0m \u001b[0mdays\u001b[0m \u001b[1;33m+\u001b[0m \u001b[1;34m' days in '\u001b[0m \u001b[1;33m+\u001b[0m \u001b[0mmonth\u001b[0m\u001b[1;33m\u001b[0m\u001b[1;33m\u001b[0m\u001b[0m\n\u001b[0m",
      "\u001b[1;31mTypeError\u001b[0m: can only concatenate str (not \"int\") to str"
     ]
    }
   ],
   "source": [
    "number_of_days_in_month()"
   ]
  },
  {
   "cell_type": "code",
   "execution_count": 16,
   "id": "level-finish",
   "metadata": {},
   "outputs": [
    {
     "name": "stdin",
     "output_type": "stream",
     "text": [
      "Please enter the month name:  March\n"
     ]
    },
    {
     "data": {
      "text/plain": [
       "'There are 31 days in March'"
      ]
     },
     "execution_count": 16,
     "metadata": {},
     "output_type": "execute_result"
    }
   ],
   "source": [
    "number_of_days_in_month()"
   ]
  },
  {
   "cell_type": "markdown",
   "id": "complicated-monroe",
   "metadata": {},
   "source": [
    "---"
   ]
  },
  {
   "cell_type": "markdown",
   "id": "level-portfolio",
   "metadata": {},
   "source": [
    "**Q 5:**\n",
    "\n",
    "Define a function to ask the length of sides of a triangle.\n",
    "\n",
    "Function name is **name_the_triangle**.\n",
    "\n",
    "The function will decide the type of triangle, according to the sides length.\n",
    "\n",
    "And will return its name.\n",
    "\n",
    "Types of Triangles:\n",
    "* Equilateral: three equal sides\n",
    "* Isosceles: two equal sides\n",
    "* Scalene: no equal sides"
   ]
  },
  {
   "cell_type": "code",
   "execution_count": 1,
   "id": "intermediate-syria",
   "metadata": {},
   "outputs": [],
   "source": [
    "# S 5:\n",
    "\n",
    "def name_the_triangle():\n",
    "    \n",
    "    # variable to keep name\n",
    "    name = \"\"\n",
    "    \n",
    "    # ask for lengths\n",
    "    side_1 = float(input('Length for the first side: '))\n",
    "    side_2 = float(input('Length for the second side: '))\n",
    "    side_3 = float(input('Length for the third side: '))\n",
    "    \n",
    "    # conditions\n",
    "    if side_1 == side_2 and side_1 == side_3:\n",
    "        name = 'Equilateral'\n",
    "    elif side_1 == side_2 or side_1 == side_3 or side_2 == side_3:\n",
    "        name = 'Isosceles'\n",
    "    else:\n",
    "        name = 'Scalene'\n",
    "    \n",
    "    return name\n"
   ]
  },
  {
   "cell_type": "code",
   "execution_count": 18,
   "id": "incorporate-present",
   "metadata": {},
   "outputs": [
    {
     "name": "stdin",
     "output_type": "stream",
     "text": [
      "Length for the first side:  10\n",
      "Length for the second side:  10\n",
      "Length for the third side:  10\n"
     ]
    },
    {
     "name": "stdout",
     "output_type": "stream",
     "text": [
      "Equilateral\n"
     ]
    }
   ],
   "source": [
    "print(name_the_triangle())"
   ]
  },
  {
   "cell_type": "code",
   "execution_count": 19,
   "id": "sufficient-shell",
   "metadata": {},
   "outputs": [
    {
     "name": "stdin",
     "output_type": "stream",
     "text": [
      "Length for the first side:  45\n",
      "Length for the second side:  60\n",
      "Length for the third side:  45\n"
     ]
    },
    {
     "name": "stdout",
     "output_type": "stream",
     "text": [
      "Isosceles\n"
     ]
    }
   ],
   "source": [
    "print(name_the_triangle())"
   ]
  },
  {
   "cell_type": "code",
   "execution_count": 20,
   "id": "municipal-speed",
   "metadata": {},
   "outputs": [
    {
     "name": "stdin",
     "output_type": "stream",
     "text": [
      "Length for the first side:  45\n",
      "Length for the second side:  60\n",
      "Length for the third side:  80\n"
     ]
    },
    {
     "name": "stdout",
     "output_type": "stream",
     "text": [
      "Scalene\n"
     ]
    }
   ],
   "source": [
    "print(name_the_triangle())"
   ]
  },
  {
   "cell_type": "markdown",
   "id": "sensitive-kingdom",
   "metadata": {},
   "source": [
    "---"
   ]
  },
  {
   "cell_type": "markdown",
   "id": "cordless-victory",
   "metadata": {},
   "source": [
    "**Q 6:**\n",
    "\n",
    "Define a function that decides what to wear, according to the month and number of the day.\n",
    "\n",
    "Function name will be **what_to_wear** and it will ask for the name of the month and day number.\n",
    "\n",
    "According to month and day number, it will check for the season and with season, it will return what to wear.\n",
    "\n",
    "<pre>\n",
    "Seasons and Garments \n",
    "Spring: Shirt\n",
    "Summer: T-shirt\n",
    "Autumn: Sweater\n",
    "Winter: Coat\n",
    "\n",
    "The Solstices:\n",
    "* June (21)\n",
    "* December (21)\n",
    "\n",
    "The Equinoxes:\n",
    "* March (21)\n",
    "* September (23)\n",
    "\n",
    "Expected Output:\n",
    "Enter month name:  March\n",
    "Enter day number:  24\n",
    "In March, day 24 we wear Shirt\n",
    "</pre>"
   ]
  },
  {
   "cell_type": "code",
   "execution_count": 21,
   "id": "correct-species",
   "metadata": {},
   "outputs": [],
   "source": [
    "# S 6:\n",
    "\n",
    "def what_to_wear():\n",
    "    \n",
    "    # ask for month and day number\n",
    "    month = input(\"Enter month name: \")\n",
    "    day = int(input(\"Enter day number: \"))\n",
    "\n",
    "    # keep the garment\n",
    "    garment = \"\"\n",
    "    \n",
    "    # decide what to wear\n",
    "    if month == 'January' or month == 'February':\n",
    "        garment = 'Coat'\n",
    "    elif month == 'March':\n",
    "        # March 21\n",
    "        if day < 21:\n",
    "            garment = 'Coat'\n",
    "        else:\n",
    "            garment = 'Shirt'\n",
    "    elif month == 'April' or month == 'May':\n",
    "        garment = 'Shirt'\n",
    "    elif month == 'June':\n",
    "        # June 21\n",
    "        if day < 21:\n",
    "            garment = 'Shirt'\n",
    "        else:\n",
    "            garment = 'T-shirt'\n",
    "    elif month == 'July' or month == 'August':\n",
    "        garment = 'T-shirt'\n",
    "    elif month == 'September':\n",
    "        # September 23\n",
    "        if day < 23:\n",
    "            garment = 'T-shirt'\n",
    "        else:\n",
    "            garment = 'Sweater'\n",
    "    elif month == 'October' or month == 'November':\n",
    "        garment = 'Sweater'\n",
    "    elif month == 'December':\n",
    "        # December 21\n",
    "        if day < 21:\n",
    "            garment = 'Sweater'\n",
    "        else:\n",
    "            garment = 'Coat'\n",
    "            \n",
    "    print('In {0}, day {1} we wear {2}'.format(month, day, garment))        \n",
    "    "
   ]
  },
  {
   "cell_type": "code",
   "execution_count": 22,
   "id": "assured-strategy",
   "metadata": {},
   "outputs": [
    {
     "name": "stdin",
     "output_type": "stream",
     "text": [
      "Enter month name:  March\n",
      "Enter day number:  24\n"
     ]
    },
    {
     "name": "stdout",
     "output_type": "stream",
     "text": [
      "In March, day 24 we wear Shirt\n"
     ]
    }
   ],
   "source": [
    "what_to_wear()"
   ]
  },
  {
   "cell_type": "code",
   "execution_count": 23,
   "id": "electoral-adapter",
   "metadata": {},
   "outputs": [
    {
     "name": "stdin",
     "output_type": "stream",
     "text": [
      "Enter month name:  July\n",
      "Enter day number:  26\n"
     ]
    },
    {
     "name": "stdout",
     "output_type": "stream",
     "text": [
      "In July, day 26 we wear T-shirt\n"
     ]
    }
   ],
   "source": [
    "what_to_wear()"
   ]
  },
  {
   "cell_type": "markdown",
   "id": "classified-ecuador",
   "metadata": {},
   "source": [
    "---"
   ]
  },
  {
   "cell_type": "markdown",
   "id": "former-revolution",
   "metadata": {},
   "source": [
    "**Q 7:**\n",
    "\n",
    "Define a function named **which_day**.\n",
    "\n",
    "It will ask for any of the capital letters: F, M, S, T, W\n",
    "\n",
    "These are the first letters of the day names in a week.\n",
    "\n",
    "The function will decide which day by the first letter.\n",
    "\n",
    "It may ask additional questions if needed?\n",
    "\n",
    "Days:\n",
    "* Monday, Tuesday, Wednesday, Thursday, Friday, Saturday, Sunday\n",
    "\n",
    "Additional questions by letter:\n",
    "* S: \n",
    "    * \"first day of weekend\" or \n",
    "    * \"last day of weekend\"\n",
    "* T: \n",
    "    * \"at the beginning of the week\" or \n",
    "    * \"at the middle of the week\"\n",
    "    \n",
    "<pre>\n",
    "Expected Output:\n",
    "Please enter any of the capital letters: F, M, S, T, W :  T\n",
    "Is it at the beginning of the week? Yes - No? No\n",
    "Your day: THURSDAY\n",
    "</pre>"
   ]
  },
  {
   "cell_type": "code",
   "execution_count": 24,
   "id": "featured-polymer",
   "metadata": {},
   "outputs": [],
   "source": [
    "# S 7:\n",
    "\n",
    "def which_day():\n",
    "    \n",
    "    # ask for a letter\n",
    "    letter = input(\"Enter one of: F, M, S, T, W  : \")\n",
    "    \n",
    "    # check if the letter is in list\n",
    "    if not (letter == 'F' or letter == 'M' or letter == 'S' or letter == 'T' or letter == 'W'):\n",
    "        print(\"Wrong letter.\")\n",
    "        return\n",
    "    \n",
    "    # if the letter is correct\n",
    "    \n",
    "    else:\n",
    "        \n",
    "        # lettter controls\n",
    "        # F\n",
    "        if letter == 'F':\n",
    "            day = 'FRIDAY'\n",
    "        \n",
    "        # M\n",
    "        elif letter == 'M':\n",
    "            day = 'MONDAY'\n",
    "            \n",
    "        # S\n",
    "        elif letter == 'S':\n",
    "            # ask additional question\n",
    "            first_day_of_weekend = input('Is it the first day of the weekend? Yes - No: ')\n",
    "            \n",
    "            if first_day_of_weekend == 'Yes':\n",
    "                day = 'SATURDAY'\n",
    "            else:\n",
    "                day = 'SUNDAY'\n",
    "                \n",
    "        \n",
    "        # T\n",
    "        elif letter == 'T':\n",
    "            # ask additional question\n",
    "            beginning_of_week = input('Is it at the beginning of the week? Yes - No : ')\n",
    "            \n",
    "            if beginning_of_week == 'Yes':\n",
    "                day = 'TUESDAY'\n",
    "            else:\n",
    "                day = 'THURSDAY'\n",
    "            \n",
    "        # W\n",
    "        elif letter == 'W':\n",
    "            day = 'WEDNESDAY'\n",
    "    \n",
    "        \n",
    "        print('Your day:', day)\n",
    "    "
   ]
  },
  {
   "cell_type": "code",
   "execution_count": 25,
   "id": "piano-crisis",
   "metadata": {},
   "outputs": [
    {
     "name": "stdin",
     "output_type": "stream",
     "text": [
      "Enter one of: F, M, S, T, W  :  F\n"
     ]
    },
    {
     "name": "stdout",
     "output_type": "stream",
     "text": [
      "Your day: FRIDAY\n"
     ]
    }
   ],
   "source": [
    "which_day()"
   ]
  },
  {
   "cell_type": "code",
   "execution_count": 26,
   "id": "wrong-finger",
   "metadata": {},
   "outputs": [
    {
     "name": "stdin",
     "output_type": "stream",
     "text": [
      "Enter one of: F, M, S, T, W  :  S\n",
      "Is it the first day of the weekend? Yes - No:  No\n"
     ]
    },
    {
     "name": "stdout",
     "output_type": "stream",
     "text": [
      "Your day: SUNDAY\n"
     ]
    }
   ],
   "source": [
    "which_day()"
   ]
  },
  {
   "cell_type": "code",
   "execution_count": 27,
   "id": "parallel-drama",
   "metadata": {},
   "outputs": [
    {
     "name": "stdin",
     "output_type": "stream",
     "text": [
      "Enter one of: F, M, S, T, W  :  T\n",
      "Is it at the beginning of the week? Yes - No :  Yes\n"
     ]
    },
    {
     "name": "stdout",
     "output_type": "stream",
     "text": [
      "Your day: TUESDAY\n"
     ]
    }
   ],
   "source": [
    "which_day()"
   ]
  },
  {
   "cell_type": "markdown",
   "id": "competent-treasurer",
   "metadata": {},
   "source": [
    "---"
   ]
  },
  {
   "cell_type": "markdown",
   "id": "terminal-mining",
   "metadata": {},
   "source": [
    "**Q 8:**\n",
    "\n",
    "Define a function named **odds_evens**.\n",
    "\n",
    "It will ask for a pozitif number from the user.\n",
    "\n",
    "Check if the input is an integer or not.\n",
    "\n",
    "Also check if the number is a positive number.\n",
    "\n",
    "Decide if the number is ODD or EVEN and print:\n",
    "* If the number is odd -> ODD\n",
    "* If the number is event and between 1 and 10 (both included) -> EVEN of TEN\n",
    "* If the number is even and between 11 and 20 (both included) -> EVEN of TWENTY\n",
    "* If the number is even and greater than 20 -> EVEN\n",
    "\n",
    "<pre>\n",
    "Expected Output:\n",
    "Plase enter a number:  18\n",
    "EVEN of TWENTY\n",
    "</pre>"
   ]
  },
  {
   "cell_type": "code",
   "execution_count": 28,
   "id": "posted-isaac",
   "metadata": {},
   "outputs": [],
   "source": [
    "# S 8:\n",
    "\n",
    "def odds_evens():\n",
    "    \n",
    "    n = input(\"Please enter a number: \")\n",
    "    \n",
    "    # if int\n",
    "    if not n.isdigit():\n",
    "        print('Not a number')\n",
    "        return\n",
    "    \n",
    "    # cast to int\n",
    "    n = int(n)\n",
    "    \n",
    "    # Positivity\n",
    "    if n <= 0:\n",
    "        print('Not Positive.')\n",
    "        return\n",
    "    \n",
    "    # It is positive\n",
    "    else:\n",
    "        \n",
    "        # odd?\n",
    "        if n % 2 == 1:\n",
    "            print('ODD')\n",
    "            \n",
    "        else:\n",
    "            # even\n",
    "            if 1 <= n <= 10:\n",
    "                print('EVEN OF TEN')\n",
    "            elif 11 <= n <= 20:\n",
    "                print('EVEN OF TVENTY')\n",
    "            elif n > 20:\n",
    "                print(\"EVEN\")\n"
   ]
  },
  {
   "cell_type": "code",
   "execution_count": 33,
   "id": "blocked-singer",
   "metadata": {},
   "outputs": [
    {
     "name": "stdin",
     "output_type": "stream",
     "text": [
      "Please enter a number:  84\n"
     ]
    },
    {
     "name": "stdout",
     "output_type": "stream",
     "text": [
      "EVEN\n"
     ]
    }
   ],
   "source": [
    "odds_evens()"
   ]
  },
  {
   "cell_type": "markdown",
   "id": "available-blast",
   "metadata": {},
   "source": [
    "---"
   ]
  },
  {
   "cell_type": "markdown",
   "id": "labeled-necklace",
   "metadata": {},
   "source": [
    "**Q 9:**\n",
    "\n",
    "**Sum of Odds and Evens:** \n",
    "* If the sum of two numbers is Odd then only one of these is Odd.\n",
    "* It the sum of two numbers is Even then both are Odd or both are Even.\n",
    "\n",
    "Define a function named **sum_of_odds_and_evens**.\n",
    "\n",
    "It will ask for two integers from the user.\n",
    "\n",
    "Then it will decide if the sum is Odd or Even.\n",
    "\n",
    "**Important Note:** Do not calculate the actual summation as x + y.\n",
    "\n",
    "<pre>\n",
    "Expected Output:\n",
    "First Number:  8\n",
    "Second Number:  3\n",
    "Sum is ODD\n",
    "</pre>"
   ]
  },
  {
   "cell_type": "code",
   "execution_count": 34,
   "id": "sorted-balance",
   "metadata": {},
   "outputs": [],
   "source": [
    "# S 9:\n",
    "\n",
    "def sum_of_odds_and_evens():\n",
    "    \n",
    "    # get numbers\n",
    "    n1 = int(input(\"Number One: \"))\n",
    "    n2 = int(input(\"Number Two: \"))\n",
    "    \n",
    "    # if only one is Odd -> summation ODD\n",
    "    # (n1 is odd and n2 is even)\n",
    "    # (n1 is even and n2 is odd)\n",
    "    if (n1 % 2 == 1 and n2 % 2 == 0) or (n1 % 2 == 0 and n2 % 2 == 1):\n",
    "        print(\"Sum is ODD\")\n",
    "    else:\n",
    "        print(\"Sum is EVEN\")\n",
    "             \n"
   ]
  },
  {
   "cell_type": "code",
   "execution_count": 35,
   "id": "embedded-promise",
   "metadata": {},
   "outputs": [
    {
     "name": "stdin",
     "output_type": "stream",
     "text": [
      "Number One:  8\n",
      "Number Two:  3\n"
     ]
    },
    {
     "name": "stdout",
     "output_type": "stream",
     "text": [
      "Sum is ODD\n"
     ]
    }
   ],
   "source": [
    "sum_of_odds_and_evens()"
   ]
  },
  {
   "cell_type": "code",
   "execution_count": 36,
   "id": "associate-exploration",
   "metadata": {},
   "outputs": [
    {
     "name": "stdin",
     "output_type": "stream",
     "text": [
      "Number One:  5\n",
      "Number Two:  7\n"
     ]
    },
    {
     "name": "stdout",
     "output_type": "stream",
     "text": [
      "Sum is EVEN\n"
     ]
    }
   ],
   "source": [
    "sum_of_odds_and_evens()"
   ]
  },
  {
   "cell_type": "code",
   "execution_count": 37,
   "id": "iraqi-bones",
   "metadata": {},
   "outputs": [
    {
     "name": "stdin",
     "output_type": "stream",
     "text": [
      "Number One:  8\n",
      "Number Two:  12\n"
     ]
    },
    {
     "name": "stdout",
     "output_type": "stream",
     "text": [
      "Sum is EVEN\n"
     ]
    }
   ],
   "source": [
    "sum_of_odds_and_evens()"
   ]
  },
  {
   "cell_type": "markdown",
   "id": "comprehensive-ethernet",
   "metadata": {},
   "source": [
    "---"
   ]
  },
  {
   "cell_type": "markdown",
   "id": "liked-marshall",
   "metadata": {},
   "source": [
    "**Q 10:**\n",
    "\n",
    "Define a function named **count_down**.\n",
    "\n",
    "It will ask for two integers from the user.\n",
    "\n",
    "First it will decide which one of them is small and which one is large.\n",
    "\n",
    "Then it will print the numbers starting from the large one up to the small one. (backwards)\n",
    "\n",
    "**Hints:** \n",
    "* Solve with Recursion.\n",
    "* There may be a second function as **print_down** for Recursion.\n",
    "\n",
    "<pre>\n",
    "Expected Output:\n",
    "First Number:  26\n",
    "Second Number:  12\n",
    "small: 12\n",
    "large: 26\n",
    "26\n",
    "25\n",
    "24\n",
    "23\n",
    "22\n",
    "21\n",
    "20\n",
    "19\n",
    "18\n",
    "17\n",
    "16\n",
    "15\n",
    "14\n",
    "13\n",
    "12\n",
    "</pre>"
   ]
  },
  {
   "cell_type": "code",
   "execution_count": 41,
   "id": "electric-valley",
   "metadata": {},
   "outputs": [],
   "source": [
    "# S 10:\n",
    "   \n",
    "def count_down():\n",
    "    # get numbers\n",
    "    num1 = int(input(\"Number One: \"))\n",
    "    num2 = int(input(\"Number Two: \"))\n",
    "    \n",
    "    # variables for small and large\n",
    "    small = 0\n",
    "    large = 0\n",
    "    \n",
    "    if num1 <= num2:\n",
    "        small = num1\n",
    "        large = num2\n",
    "    else:\n",
    "        small = num2\n",
    "        large = num1\n",
    "    \n",
    "    print(\"small\", small)\n",
    "    print(\"large\", large)\n",
    "    \n",
    "    # call recursion\n",
    "    print_down(small, large)\n",
    "    \n",
    "    \n",
    "# recursion function\n",
    "def print_down(end, value):\n",
    "    \n",
    "    # exit condition\n",
    "    if value == end:\n",
    "        print(value)\n",
    "        return\n",
    "    else:\n",
    "        print(value)\n",
    "        print_down(end, value - 1)\n"
   ]
  },
  {
   "cell_type": "code",
   "execution_count": 42,
   "id": "provincial-thing",
   "metadata": {},
   "outputs": [
    {
     "name": "stdin",
     "output_type": "stream",
     "text": [
      "Number One:  26\n",
      "Number Two:  12\n"
     ]
    },
    {
     "name": "stdout",
     "output_type": "stream",
     "text": [
      "small 12\n",
      "large 26\n",
      "26\n",
      "25\n",
      "24\n",
      "23\n",
      "22\n",
      "21\n",
      "20\n",
      "19\n",
      "18\n",
      "17\n",
      "16\n",
      "15\n",
      "14\n",
      "13\n",
      "12\n"
     ]
    }
   ],
   "source": [
    "count_down()"
   ]
  },
  {
   "cell_type": "code",
   "execution_count": null,
   "id": "north-prairie",
   "metadata": {},
   "outputs": [],
   "source": []
  }
 ],
 "metadata": {
  "kernelspec": {
   "display_name": "Python 3 (ipykernel)",
   "language": "python",
   "name": "python3"
  },
  "language_info": {
   "codemirror_mode": {
    "name": "ipython",
    "version": 3
   },
   "file_extension": ".py",
   "mimetype": "text/x-python",
   "name": "python",
   "nbconvert_exporter": "python",
   "pygments_lexer": "ipython3",
   "version": "3.9.12"
  }
 },
 "nbformat": 4,
 "nbformat_minor": 5
}
