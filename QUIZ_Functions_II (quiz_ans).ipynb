{
 "cells": [
  {
   "cell_type": "markdown",
   "id": "artificial-counter",
   "metadata": {},
   "source": [
    "## [10 Questions] QUIZ - Functions II"
   ]
  },
  {
   "cell_type": "markdown",
   "id": "affecting-bibliography",
   "metadata": {},
   "source": [
    "**Q 1:**\n",
    "\n",
    "Many times, we need input from the user.\n",
    "\n",
    "Define a generic function to ask for user input.\n",
    "\n",
    "Function name will be **get_input**.\n",
    "\n",
    "Function will take the input text as parameter and use it while asking for input from the user."
   ]
  },
  {
   "cell_type": "code",
   "execution_count": 2,
   "id": "extreme-comfort",
   "metadata": {},
   "outputs": [],
   "source": [
    "# S 1:\n",
    "def get_input(text):\n",
    "    user_input = input(text)\n",
    "    \n",
    "    return user_input"
   ]
  },
  {
   "cell_type": "code",
   "execution_count": 3,
   "id": "cognitive-sweet",
   "metadata": {},
   "outputs": [
    {
     "name": "stdin",
     "output_type": "stream",
     "text": [
      "Please enter a number:  8\n"
     ]
    },
    {
     "name": "stdout",
     "output_type": "stream",
     "text": [
      "<class 'str'>\n"
     ]
    }
   ],
   "source": [
    "# Ask for an integer\n",
    "\n",
    "integer = get_input(\"Please enter a number: \")\n",
    "print(type(integer))\n"
   ]
  },
  {
   "cell_type": "code",
   "execution_count": 4,
   "id": "ecological-wesley",
   "metadata": {},
   "outputs": [
    {
     "name": "stdin",
     "output_type": "stream",
     "text": [
      "Please enter month name:  may\n"
     ]
    },
    {
     "data": {
      "text/plain": [
       "str"
      ]
     },
     "execution_count": 4,
     "metadata": {},
     "output_type": "execute_result"
    }
   ],
   "source": [
    "# Ask for the month name\n",
    "\n",
    "month = get_input(\"Please enter month name: \")\n",
    "type(month)"
   ]
  },
  {
   "cell_type": "code",
   "execution_count": 5,
   "id": "inner-smooth",
   "metadata": {},
   "outputs": [
    {
     "data": {
      "text/plain": [
       "str"
      ]
     },
     "execution_count": 5,
     "metadata": {},
     "output_type": "execute_result"
    }
   ],
   "source": [
    "# Let's see return type from get_input function\n",
    "\n",
    "type(month)"
   ]
  },
  {
   "cell_type": "markdown",
   "id": "professional-prime",
   "metadata": {},
   "source": [
    "---"
   ]
  },
  {
   "cell_type": "markdown",
   "id": "continent-milan",
   "metadata": {},
   "source": [
    "**Q 2:**\n",
    "\n",
    "We already know that, get_input function in Question 1 returns str.\n",
    "\n",
    "Now we will define a new function named **is_integer**.\n",
    "\n",
    "It will get a string parameter and will check if its value is integer or not.\n",
    "\n",
    "It will return True if the parameter is integer."
   ]
  },
  {
   "cell_type": "code",
   "execution_count": 6,
   "id": "annoying-netscape",
   "metadata": {},
   "outputs": [
    {
     "name": "stdin",
     "output_type": "stream",
     "text": [
      "please enter a number: hello\n"
     ]
    },
    {
     "data": {
      "text/plain": [
       "False"
      ]
     },
     "execution_count": 6,
     "metadata": {},
     "output_type": "execute_result"
    }
   ],
   "source": [
    "# S 2:\n",
    "\n",
    "def is_integer (text):\n",
    "    text = text.strip()\n",
    "    text = text.strip(\"+-\")\n",
    "    if text.isdigit():\n",
    "        return True\n",
    "    else:\n",
    "        return False\n",
    "input_text = \"please enter a number:\"\n",
    "user_input = get_input(input_text)\n",
    "is_real_integer = is_integer(user_input)\n",
    "\n",
    "is_real_integer\n",
    "\n"
   ]
  },
  {
   "cell_type": "code",
   "execution_count": 8,
   "id": "steady-vermont",
   "metadata": {},
   "outputs": [
    {
     "name": "stdin",
     "output_type": "stream",
     "text": [
      "Please enter a number:  hello\n"
     ]
    },
    {
     "data": {
      "text/plain": [
       "False"
      ]
     },
     "execution_count": 8,
     "metadata": {},
     "output_type": "execute_result"
    }
   ],
   "source": [
    "# let's test is_integer function\n",
    "\n",
    "# first get an input from the user\n",
    "input_text = \"Please enter a number: \"\n",
    "user_input = get_input(input_text)\n",
    "\n",
    "# check if the input is integer\n",
    "is_input_integer = is_integer(user_input)\n",
    "\n",
    "# Let's the result\n",
    "is_input_integer"
   ]
  },
  {
   "cell_type": "code",
   "execution_count": 7,
   "id": "differential-sleeve",
   "metadata": {},
   "outputs": [
    {
     "name": "stdin",
     "output_type": "stream",
     "text": [
      "Please enter a number:  78\n"
     ]
    },
    {
     "name": "stdout",
     "output_type": "stream",
     "text": [
      "True\n"
     ]
    }
   ],
   "source": [
    "# in one line -> composition\n",
    "\n",
    "print(is_integer(get_input(\"Please enter a number: \")))"
   ]
  },
  {
   "cell_type": "markdown",
   "id": "behind-radio",
   "metadata": {},
   "source": [
    "---"
   ]
  },
  {
   "cell_type": "markdown",
   "id": "intellectual-variety",
   "metadata": {},
   "source": [
    "**Q 3:**\n",
    "\n",
    "Get an integer from the user, using functions in Q1 and Q2.\n",
    "\n",
    "Which will guarantee that it is an integer.\n",
    "\n",
    "If the input is not integer, ask recursively.\n",
    "\n",
    "Function name will be **get_integer**.\n",
    "\n",
    "Hints:\n",
    "* Use Recursion"
   ]
  },
  {
   "cell_type": "code",
   "execution_count": 5,
   "id": "operational-valuation",
   "metadata": {},
   "outputs": [],
   "source": [
    "# S 3:\n",
    "def get_integer (input_text):\n",
    "    user_input = get_input(input_text)\n",
    "    if is_integer(user_input):\n",
    "        return int(user_input)\n",
    "    else:\n",
    "        return get_integer(input_text) \n",
    "\n"
   ]
  },
  {
   "cell_type": "code",
   "execution_count": 6,
   "id": "pleasant-parts",
   "metadata": {},
   "outputs": [
    {
     "name": "stdin",
     "output_type": "stream",
     "text": [
      "please enter an integer:  frs\n",
      "please enter an integer:  gda\n",
      "please enter an integer:  they\n",
      "please enter an integer:  56\n"
     ]
    },
    {
     "name": "stdout",
     "output_type": "stream",
     "text": [
      "56\n"
     ]
    }
   ],
   "source": [
    "num = get_integer(\"please enter an integer: \")\n",
    "print(num)"
   ]
  },
  {
   "cell_type": "code",
   "execution_count": 7,
   "id": "blind-mechanics",
   "metadata": {},
   "outputs": [
    {
     "name": "stdin",
     "output_type": "stream",
     "text": [
      "please enter an integer:  76\n"
     ]
    },
    {
     "data": {
      "text/plain": [
       "76"
      ]
     },
     "execution_count": 7,
     "metadata": {},
     "output_type": "execute_result"
    }
   ],
   "source": [
    "get_integer(\"please enter an integer: \")"
   ]
  },
  {
   "cell_type": "markdown",
   "id": "published-evanescence",
   "metadata": {},
   "source": [
    "---"
   ]
  },
  {
   "cell_type": "markdown",
   "id": "center-patent",
   "metadata": {},
   "source": [
    "**Q 4:**\n",
    "\n",
    "Define a function named **day_of_week**.\n",
    "\n",
    "The function will ask the user to enter an integer between 1-7.\n",
    "\n",
    "And it will decide the day name according to that number.\n",
    "\n",
    "Hints:\n",
    "* use functions in Q3\n",
    "* check for number being in range 1-7"
   ]
  },
  {
   "cell_type": "code",
   "execution_count": 10,
   "id": "mobile-excerpt",
   "metadata": {},
   "outputs": [],
   "source": [
    "# S 4:\n",
    "def day_of_week():\n",
    "    num_day = get_integer(\"enter an integer between 1-7:\")\n",
    "    if not 1<= num_day <=7:\n",
    "        return \"not valid\"\n",
    "    if num_day == 1:\n",
    "        return \"Monday\"\n",
    "    elif num_day == 2:\n",
    "        return \"Tuesday\"\n",
    "    elif num_day == 3:\n",
    "        return \"Wednesday\"\n",
    "    elif num_day == 4:\n",
    "        return \"Thursday\"\n",
    "    elif num_day == 5:\n",
    "        return \"Friday\"\n",
    "    elif num_day == 6:\n",
    "        return \"Saturday\"\n",
    "    else:\n",
    "        return \"Sunday\"\n",
    "\n",
    "    \n",
    "    \n"
   ]
  },
  {
   "cell_type": "code",
   "execution_count": 11,
   "id": "human-sentence",
   "metadata": {},
   "outputs": [
    {
     "name": "stdin",
     "output_type": "stream",
     "text": [
      "enter an integer between 1-7: 7\n"
     ]
    },
    {
     "data": {
      "text/plain": [
       "'Sunday'"
      ]
     },
     "execution_count": 11,
     "metadata": {},
     "output_type": "execute_result"
    }
   ],
   "source": [
    "# now let's the benefits of functions\n",
    "\n",
    "day_of_week()"
   ]
  },
  {
   "cell_type": "markdown",
   "id": "everyday-mistress",
   "metadata": {},
   "source": [
    "---"
   ]
  },
  {
   "cell_type": "markdown",
   "id": "continuous-parallel",
   "metadata": {},
   "source": [
    "**Q 5:**\n",
    "\n",
    "Copy the functions below and examine the **Stack Trace**.\n",
    "\n",
    "Stack Trace means the execution order of functions.\n",
    "\n",
    "Make sure you understand the execution order.\n",
    "\n",
    "<pre>\n",
    "def n(c):\n",
    "    power = m(c, c)\n",
    "    print(c, power)\n",
    "    return power\n",
    "        \n",
    "def m(x, y):\n",
    "    x = x + 2\n",
    "    return x**y\n",
    "\n",
    "def p(x, y, z):\n",
    "    summation = x + y + z\n",
    "    sqr = n(summation)**2\n",
    "    return sqr\n",
    "\n",
    "a = 1\n",
    "b = a + 1\n",
    "print(p(a, b+1, a+b)) \n",
    "</pre>\n"
   ]
  },
  {
   "cell_type": "code",
   "execution_count": 5,
   "id": "mobile-mathematics",
   "metadata": {},
   "outputs": [
    {
     "name": "stdout",
     "output_type": "stream",
     "text": [
      "7 4782969\n",
      "22876792454961\n"
     ]
    }
   ],
   "source": [
    "# S 5:\n",
    "\n",
    "def n(c):\n",
    "    power = m(c, c)\n",
    "    print(c, power)\n",
    "    return power\n",
    "\n",
    "def m(x, y):\n",
    "    x = x + 2\n",
    "    return x**y\n",
    "\n",
    "def p(x, y, z):\n",
    "    summation = x + y + z\n",
    "    sqr = n(summation)**2\n",
    "    return sqr\n",
    "\n",
    "a = 1\n",
    "b = a + 1\n",
    "print(p(a, b+1, a+b))"
   ]
  },
  {
   "cell_type": "code",
   "execution_count": null,
   "id": "b8714fc4-0a4f-412c-b8fc-bff7fb05431b",
   "metadata": {},
   "outputs": [],
   "source": []
  },
  {
   "cell_type": "markdown",
   "id": "ignored-vessel",
   "metadata": {},
   "source": [
    "**Stack Trace:**\n",
    "\n",
    "............."
   ]
  },
  {
   "cell_type": "markdown",
   "id": "shaped-heritage",
   "metadata": {},
   "source": [
    "----"
   ]
  },
  {
   "cell_type": "markdown",
   "id": "severe-rabbit",
   "metadata": {},
   "source": [
    "**Q 6:**\n",
    "\n",
    "Define a function named **arithmetic_mean**.\n",
    "\n",
    "The function will get parameters that are unknown. (unknown parameters)\n",
    "\n",
    "Namely, the number of parameters is not known in advance.\n",
    "\n",
    "The function will print the arithmetic mean of these parameters.\n",
    "\n",
    "**Hints:**\n",
    "* *args\n",
    "* Arithmetic Mean = Summation / Number of Elements\n",
    "* sum()\n",
    "* len()"
   ]
  },
  {
   "cell_type": "code",
   "execution_count": 10,
   "id": "present-agenda",
   "metadata": {},
   "outputs": [
    {
     "data": {
      "text/plain": [
       "6.0"
      ]
     },
     "execution_count": 10,
     "metadata": {},
     "output_type": "execute_result"
    }
   ],
   "source": [
    "# S 6:\n",
    "\n",
    "def arithmetic_mean(*args):\n",
    "    \n",
    "    mean = sum(args)/len(args)\n",
    "    \n",
    "    return mean\n",
    "    \n",
    "    print(arithmetic_mean)\n",
    "\n",
    "arithmetic_mean(2,5,11)\n",
    "    "
   ]
  },
  {
   "cell_type": "code",
   "execution_count": 24,
   "id": "threatened-better",
   "metadata": {},
   "outputs": [
    {
     "name": "stdout",
     "output_type": "stream",
     "text": [
      "6.0\n"
     ]
    }
   ],
   "source": [
    "mean = arithmetic_mean(2, 5, 11)\n",
    "print(mean)"
   ]
  },
  {
   "cell_type": "code",
   "execution_count": 25,
   "id": "awful-resident",
   "metadata": {},
   "outputs": [
    {
     "data": {
      "text/plain": [
       "30.0"
      ]
     },
     "execution_count": 25,
     "metadata": {},
     "output_type": "execute_result"
    }
   ],
   "source": [
    "arithmetic_mean(10, 30, 60, 20)"
   ]
  },
  {
   "cell_type": "markdown",
   "id": "nominated-variation",
   "metadata": {},
   "source": [
    "---"
   ]
  },
  {
   "cell_type": "markdown",
   "id": "revolutionary-black",
   "metadata": {},
   "source": [
    "**Q 7:**\n",
    "\n",
    "Define a function named **area_of_circle**.\n",
    "\n",
    "It will take the radius as parameter and calcuates the area of the circle.\n",
    "\n",
    "The function body should be one line of code.\n",
    "\n",
    "**Hints:**\n",
    "\n",
    "$ Area Of Circle = \\pi * r^2$"
   ]
  },
  {
   "cell_type": "code",
   "execution_count": 14,
   "id": "aggressive-marker",
   "metadata": {},
   "outputs": [
    {
     "data": {
      "text/plain": [
       "314.1592653589793"
      ]
     },
     "execution_count": 14,
     "metadata": {},
     "output_type": "execute_result"
    }
   ],
   "source": [
    "# S 7:\n",
    "import math\n",
    "def area_of_circle(radius):\n",
    "    area = math.pi * radius**2\n",
    "    \n",
    "    return area\n",
    "\n",
    "area_of_circle(10)"
   ]
  },
  {
   "cell_type": "code",
   "execution_count": 27,
   "id": "extra-vocabulary",
   "metadata": {},
   "outputs": [
    {
     "data": {
      "text/plain": [
       "314.1592653589793"
      ]
     },
     "execution_count": 27,
     "metadata": {},
     "output_type": "execute_result"
    }
   ],
   "source": [
    "area_of_circle(10)"
   ]
  },
  {
   "cell_type": "markdown",
   "id": "white-confidentiality",
   "metadata": {},
   "source": [
    "---"
   ]
  },
  {
   "cell_type": "markdown",
   "id": "fixed-background",
   "metadata": {},
   "source": [
    "**Q 8:**\n",
    "\n",
    "Define a function named **perimeter_of_circle**.\n",
    "\n",
    "It will take the radius as parameter and calcuates the perimeter of the circle.\n",
    "\n",
    "The function body should be one line of code.\n",
    "\n",
    "**Hints:**\n",
    "\n",
    "$ Perimeter Of Circle = 2 * \\pi * r$"
   ]
  },
  {
   "cell_type": "code",
   "execution_count": 15,
   "id": "rough-apple",
   "metadata": {},
   "outputs": [
    {
     "data": {
      "text/plain": [
       "62.83185307179586"
      ]
     },
     "execution_count": 15,
     "metadata": {},
     "output_type": "execute_result"
    }
   ],
   "source": [
    "# S 8:\n",
    "\n",
    "def perimeter_of_circle(radius):\n",
    "    area = 2 * math.pi * radius\n",
    "    \n",
    "    return area\n",
    "\n",
    "perimeter_of_circle(10)\n"
   ]
  },
  {
   "cell_type": "code",
   "execution_count": 29,
   "id": "valid-camel",
   "metadata": {},
   "outputs": [
    {
     "data": {
      "text/plain": [
       "62.83185307179586"
      ]
     },
     "execution_count": 29,
     "metadata": {},
     "output_type": "execute_result"
    }
   ],
   "source": [
    "perimeter_of_circle(10)"
   ]
  },
  {
   "cell_type": "markdown",
   "id": "martial-costa",
   "metadata": {},
   "source": [
    "---"
   ]
  },
  {
   "cell_type": "markdown",
   "id": "intermediate-investing",
   "metadata": {},
   "source": [
    "**Q 9:**\n",
    "\n",
    "Define a function named **area_of_rectangle**.\n",
    "\n",
    "The parameters will be length (l) and width (w).\n",
    "\n",
    "The function body should be one line of code.\n",
    "\n",
    "**Hints:**\n",
    "\n",
    "$ Area Of Rectangle = l * w$"
   ]
  },
  {
   "cell_type": "code",
   "execution_count": 16,
   "id": "damaged-filename",
   "metadata": {},
   "outputs": [
    {
     "data": {
      "text/plain": [
       "60"
      ]
     },
     "execution_count": 16,
     "metadata": {},
     "output_type": "execute_result"
    }
   ],
   "source": [
    "# S 9:\n",
    "def area_of_rectangle(length,width):\n",
    "    area = length * width\n",
    "    \n",
    "    return area\n",
    "\n",
    "area_of_rectangle(5,12)\n",
    "\n"
   ]
  },
  {
   "cell_type": "code",
   "execution_count": 31,
   "id": "equal-substitute",
   "metadata": {},
   "outputs": [
    {
     "data": {
      "text/plain": [
       "60"
      ]
     },
     "execution_count": 31,
     "metadata": {},
     "output_type": "execute_result"
    }
   ],
   "source": [
    "area_of_rectangle(5, 12)"
   ]
  },
  {
   "cell_type": "markdown",
   "id": "cultural-example",
   "metadata": {},
   "source": [
    "---"
   ]
  },
  {
   "cell_type": "markdown",
   "id": "isolated-brooks",
   "metadata": {},
   "source": [
    "**Q 10:**\n",
    "\n",
    "Define a function to calculate the surface area of a right cylinder.\n",
    "\n",
    "The name will be **area_of_cylinder** and it will take two parameters.\n",
    "\n",
    "The first parameter r will be the radius of top and base circles.\n",
    "\n",
    "The seconda parameter h will be the hight of cylinder.\n",
    "\n",
    "**Hints:**\n",
    "* cylinder is a combination of two circles and a rectangle\n",
    "* use functions from previous questions to calculate the areas"
   ]
  },
  {
   "cell_type": "code",
   "execution_count": 21,
   "id": "necessary-panic",
   "metadata": {},
   "outputs": [
    {
     "data": {
      "text/plain": [
       "753.9822368615503"
      ]
     },
     "execution_count": 21,
     "metadata": {},
     "output_type": "execute_result"
    }
   ],
   "source": [
    "# S 10:\n",
    "\n",
    "def area_of_cylinder(radius,height):\n",
    "    '''Area of circle = π*r²\n",
    "    Perimeter of circle = 2*π*r\n",
    "    surface_area of cylinder = two circles (2*π*r²) + rectangle (perimeter*Height)=(2*π*r*h)'''\n",
    "    area = ( 2 * math.pi * radius * (radius + height))\n",
    "    \n",
    "    return area\n",
    "\n",
    "area_of_cylinder(10, 2)\n"
   ]
  },
  {
   "cell_type": "code",
   "execution_count": 34,
   "id": "aggregate-justice",
   "metadata": {},
   "outputs": [
    {
     "data": {
      "text/plain": [
       "753.9822368615504"
      ]
     },
     "execution_count": 34,
     "metadata": {},
     "output_type": "execute_result"
    }
   ],
   "source": [
    "area_of_cylinder(10, 2)"
   ]
  },
  {
   "cell_type": "code",
   "execution_count": null,
   "id": "smaller-learning",
   "metadata": {},
   "outputs": [],
   "source": []
  }
 ],
 "metadata": {
  "kernelspec": {
   "display_name": "Python 3 (ipykernel)",
   "language": "python",
   "name": "python3"
  },
  "language_info": {
   "codemirror_mode": {
    "name": "ipython",
    "version": 3
   },
   "file_extension": ".py",
   "mimetype": "text/x-python",
   "name": "python",
   "nbconvert_exporter": "python",
   "pygments_lexer": "ipython3",
   "version": "3.9.12"
  }
 },
 "nbformat": 4,
 "nbformat_minor": 5
}
