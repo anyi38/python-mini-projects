{
 "cells": [
  {
   "cell_type": "markdown",
   "id": "resistant-tension",
   "metadata": {},
   "source": [
    "## [10 Questions] QUIZ - Strings"
   ]
  },
  {
   "cell_type": "markdown",
   "id": "decreased-wildlife",
   "metadata": {},
   "source": [
    "**Q 1:**\n",
    "\n",
    "Define a function named **only_first_letters**.\n",
    "\n",
    "It will take a string as the parameter.\n",
    "\n",
    "And it will convert all the first letters of each word into upper case.\n",
    "\n",
    "All the remaining letter will be lowe case."
   ]
  },
  {
   "cell_type": "code",
   "execution_count": 1,
   "id": "binary-family",
   "metadata": {},
   "outputs": [
    {
     "name": "stdout",
     "output_type": "stream",
     "text": [
      "Python Is Great.\n"
     ]
    }
   ],
   "source": [
    "# S 1:\n",
    "def only_first_letters(string):\n",
    "    proper_text = string\n",
    "    return proper_text.title()\n",
    "\n",
    "proper_text = only_first_letters('pyThon iS grEAt.')\n",
    "print(proper_text)\n",
    "\n",
    "    "
   ]
  },
  {
   "cell_type": "code",
   "execution_count": 3,
   "id": "sharp-setup",
   "metadata": {},
   "outputs": [
    {
     "name": "stdout",
     "output_type": "stream",
     "text": [
      "Python Is Great.\n"
     ]
    }
   ],
   "source": [
    "proper_text = only_first_letters('pyThon iS grEAt.')\n",
    "print(proper_text)"
   ]
  },
  {
   "cell_type": "markdown",
   "id": "assigned-greene",
   "metadata": {},
   "source": [
    "---"
   ]
  },
  {
   "cell_type": "markdown",
   "id": "critical-irrigation",
   "metadata": {},
   "source": [
    "**Q 2:**\n",
    "\n",
    "Define a function taking a text and a letter as paramaters.\n",
    "\n",
    "The function name will be **count_the_letter**.\n",
    "\n",
    "Function will return the number (count) of occurences of the letter in the text.\n",
    "\n",
    "**Hints:**\n",
    "* use built-in function\n",
    "* your function body should be one line of code\n",
    "* https://docs.python.org/3/library/stdtypes.html#string-methods"
   ]
  },
  {
   "cell_type": "code",
   "execution_count": 2,
   "id": "educated-consensus",
   "metadata": {},
   "outputs": [],
   "source": [
    "# S 2:\n",
    "def count_the_letter(text,letter):\n",
    "    return text.count(letter)\n",
    "\n",
    "    "
   ]
  },
  {
   "cell_type": "code",
   "execution_count": 3,
   "id": "lovely-diameter",
   "metadata": {},
   "outputs": [
    {
     "name": "stdin",
     "output_type": "stream",
     "text": [
      "Please enter a text:  hello\n",
      "Now a letter:  l\n"
     ]
    },
    {
     "data": {
      "text/plain": [
       "2"
      ]
     },
     "execution_count": 3,
     "metadata": {},
     "output_type": "execute_result"
    }
   ],
   "source": [
    "text = input('Please enter a text: ')\n",
    "letter = input('Now a letter: ')\n",
    "count_the_letter(text, letter)"
   ]
  },
  {
   "cell_type": "markdown",
   "id": "quick-jewelry",
   "metadata": {},
   "source": [
    "---"
   ]
  },
  {
   "cell_type": "markdown",
   "id": "continuous-genealogy",
   "metadata": {},
   "source": [
    "**Q 3:**\n",
    "\n",
    "Define a function named **count_letters**.\n",
    "\n",
    "It will ask for sentence from the user.\n",
    "\n",
    "And it will count the occurences of each letter and print it.\n",
    "\n",
    "**Hints:**\n",
    "* Do not count space character\n",
    "* Use the function you defined in Q2.\n",
    "\n",
    "<pre>\n",
    "Expected Output:\n",
    "\n",
    "Please enter a sentence:  pandas\n",
    "letter p: 1 time(s)\n",
    "letter a: 2 time(s)\n",
    "letter n: 1 time(s)\n",
    "letter d: 1 time(s)\n",
    "letter s: 1 time(s)\n",
    "</pre>"
   ]
  },
  {
   "cell_type": "code",
   "execution_count": 4,
   "id": "committed-newark",
   "metadata": {},
   "outputs": [
    {
     "name": "stdin",
     "output_type": "stream",
     "text": [
      "Please enter a sentence: pandas\n"
     ]
    },
    {
     "data": {
      "text/plain": [
       "{'p': 1, 'a': 2, 'n': 1, 'd': 1, 's': 1}"
      ]
     },
     "execution_count": 4,
     "metadata": {},
     "output_type": "execute_result"
    }
   ],
   "source": [
    "# S 3:\n",
    "def count_letter():\n",
    "    text = input(\"Please enter a sentence:\")\n",
    "    result = {}\n",
    "    for letter in text:\n",
    "        if letter not in result:\n",
    "            result[letter] = 0\n",
    "        result[letter] += 1\n",
    "    return result\n",
    "\n",
    "count_letter()       "
   ]
  },
  {
   "cell_type": "code",
   "execution_count": 17,
   "id": "civil-helena",
   "metadata": {},
   "outputs": [
    {
     "name": "stdin",
     "output_type": "stream",
     "text": [
      "Please enter a sentence:  pandas\n"
     ]
    },
    {
     "name": "stdout",
     "output_type": "stream",
     "text": [
      "letter p: 1 time(s)\n",
      "letter a: 2 time(s)\n",
      "letter n: 1 time(s)\n",
      "letter d: 1 time(s)\n",
      "letter s: 1 time(s)\n"
     ]
    }
   ],
   "source": [
    "count_letters()"
   ]
  },
  {
   "cell_type": "markdown",
   "id": "narrative-apache",
   "metadata": {},
   "source": [
    "---"
   ]
  },
  {
   "cell_type": "markdown",
   "id": "arabic-korea",
   "metadata": {},
   "source": [
    "**Q 4:**\n",
    "\n",
    "Your text is:\n",
    "\n",
    "'Monday Tuesday Wednesday Thursday Friday'.\n",
    "\n",
    "Do slicing operations on this text and answer the following questions:\n",
    "\n",
    "<pre>\n",
    "* find the first 3 chars\n",
    "* find the chars between index 7 and 10 (inc.)\n",
    "* find the chars between index 2 and 12 (exc.)\n",
    "* find the chars at indices 3, 4 and 5\n",
    "</pre>"
   ]
  },
  {
   "cell_type": "code",
   "execution_count": 5,
   "id": "parental-germany",
   "metadata": {},
   "outputs": [
    {
     "data": {
      "text/plain": [
       "'Mon'"
      ]
     },
     "execution_count": 5,
     "metadata": {},
     "output_type": "execute_result"
    }
   ],
   "source": [
    "# S 4:\n",
    "\n",
    "text = 'Monday Tuesday Wednesday Thursday Friday'\n",
    "days_of_week = 'Monday Tuesday Wednesday Thursday Friday' \n",
    "len(days_of_week)\n",
    "days_of_week[:3]"
   ]
  },
  {
   "cell_type": "code",
   "execution_count": 7,
   "id": "2d974c05-49cd-4b5f-a86e-037084bc9431",
   "metadata": {},
   "outputs": [
    {
     "data": {
      "text/plain": [
       "'Tues'"
      ]
     },
     "execution_count": 7,
     "metadata": {},
     "output_type": "execute_result"
    }
   ],
   "source": [
    "days_of_week[7:11]"
   ]
  },
  {
   "cell_type": "code",
   "execution_count": 8,
   "id": "f273fba5-e507-44ba-b821-fa4de3140fba",
   "metadata": {},
   "outputs": [
    {
     "data": {
      "text/plain": [
       "'nday Tuesd'"
      ]
     },
     "execution_count": 8,
     "metadata": {},
     "output_type": "execute_result"
    }
   ],
   "source": [
    "days_of_week[2:12]"
   ]
  },
  {
   "cell_type": "code",
   "execution_count": 9,
   "id": "760ef6ed-65d0-457e-9de4-2788bb18e951",
   "metadata": {},
   "outputs": [
    {
     "data": {
      "text/plain": [
       "'d'"
      ]
     },
     "execution_count": 9,
     "metadata": {},
     "output_type": "execute_result"
    }
   ],
   "source": [
    "days_of_week[3]"
   ]
  },
  {
   "cell_type": "code",
   "execution_count": 10,
   "id": "5cacf55d-22d0-4621-8351-42f7fda53b1b",
   "metadata": {},
   "outputs": [
    {
     "data": {
      "text/plain": [
       "'a'"
      ]
     },
     "execution_count": 10,
     "metadata": {},
     "output_type": "execute_result"
    }
   ],
   "source": [
    "days_of_week[4]"
   ]
  },
  {
   "cell_type": "code",
   "execution_count": 11,
   "id": "cc5f83bc-7391-49e9-82b8-a805272ce2df",
   "metadata": {},
   "outputs": [
    {
     "data": {
      "text/plain": [
       "'y'"
      ]
     },
     "execution_count": 11,
     "metadata": {},
     "output_type": "execute_result"
    }
   ],
   "source": [
    "days_of_week[5]"
   ]
  },
  {
   "cell_type": "markdown",
   "id": "fallen-miracle",
   "metadata": {},
   "source": [
    "---"
   ]
  },
  {
   "cell_type": "markdown",
   "id": "spanish-medicare",
   "metadata": {},
   "source": [
    "**Q 5:**\n",
    "\n",
    "Your text is:\n",
    "\n",
    "'Monday Tuesday Wednesday'\n",
    "\n",
    "Do slicing operations on this text and answer the following questions:\n",
    "\n",
    "<pre>\n",
    "* find the chars from index 1 to 7 with step size 2\n",
    "* find the chars from index 3 to 20 with step size 3\n",
    "* find the chars with even indices (0, 2, 4, 6 ...)\n",
    "* find the chars with odd indices (1, 3, 5, 7 ...)\n",
    "</pre>"
   ]
  },
  {
   "cell_type": "code",
   "execution_count": 12,
   "id": "varying-fight",
   "metadata": {},
   "outputs": [
    {
     "data": {
      "text/plain": [
       "24"
      ]
     },
     "execution_count": 12,
     "metadata": {},
     "output_type": "execute_result"
    }
   ],
   "source": [
    "# S 5:\n",
    "\n",
    "text = 'Monday Tuesday Wednesday'\n",
    "len(text)"
   ]
  },
  {
   "cell_type": "code",
   "execution_count": 13,
   "id": "3d10b8a6-f6ea-45bc-95af-a605d2926460",
   "metadata": {},
   "outputs": [
    {
     "data": {
      "text/plain": [
       "'ody'"
      ]
     },
     "execution_count": 13,
     "metadata": {},
     "output_type": "execute_result"
    }
   ],
   "source": [
    "text[1:7:2]"
   ]
  },
  {
   "cell_type": "code",
   "execution_count": 14,
   "id": "7626d9cd-820c-4b2e-b623-5cf6ec478b8f",
   "metadata": {},
   "outputs": [
    {
     "data": {
      "text/plain": [
       "'d eaWn'"
      ]
     },
     "execution_count": 14,
     "metadata": {},
     "output_type": "execute_result"
    }
   ],
   "source": [
    "text[3:20:3]"
   ]
  },
  {
   "cell_type": "code",
   "execution_count": 15,
   "id": "2186737e-d041-422c-be72-040a7c83a341",
   "metadata": {},
   "outputs": [
    {
     "data": {
      "text/plain": [
       "'Mna usa ensa'"
      ]
     },
     "execution_count": 15,
     "metadata": {},
     "output_type": "execute_result"
    }
   ],
   "source": [
    "text[::2]"
   ]
  },
  {
   "cell_type": "code",
   "execution_count": 16,
   "id": "d7257233-c85e-4435-9279-ba5e2617485e",
   "metadata": {},
   "outputs": [
    {
     "data": {
      "text/plain": [
       "'odyTedyWdedy'"
      ]
     },
     "execution_count": 16,
     "metadata": {},
     "output_type": "execute_result"
    }
   ],
   "source": [
    "text[1::2]"
   ]
  },
  {
   "cell_type": "markdown",
   "id": "systematic-confirmation",
   "metadata": {},
   "source": [
    "---"
   ]
  },
  {
   "cell_type": "markdown",
   "id": "backed-module",
   "metadata": {},
   "source": [
    "**Q 6:**\n",
    "\n",
    "Your text:\n",
    "\n",
    "'Monday Tuesday Wednesday'\n",
    "\n",
    "Do slicing operations on this text and answer the following questions:\n",
    "\n",
    "<pre>\n",
    "* find the last character\n",
    "* find the 3rd character from last\n",
    "* find last 3 characters\n",
    "* print the text in reverse order\n",
    "</pre>"
   ]
  },
  {
   "cell_type": "code",
   "execution_count": 17,
   "id": "structural-marketing",
   "metadata": {},
   "outputs": [
    {
     "data": {
      "text/plain": [
       "('y', 'd', 'day', 'yadsendeW yadseuT yadnoM')"
      ]
     },
     "execution_count": 17,
     "metadata": {},
     "output_type": "execute_result"
    }
   ],
   "source": [
    "# S 6:\n",
    "\n",
    "text = 'Monday Tuesday Wednesday'\n",
    "text[-1],text[-3],text[-3::1],text[::-1]"
   ]
  },
  {
   "cell_type": "code",
   "execution_count": 18,
   "id": "0c85b737-fb04-4b4f-be3c-d9fde597dcf3",
   "metadata": {},
   "outputs": [
    {
     "data": {
      "text/plain": [
       "('d', 'day')"
      ]
     },
     "execution_count": 18,
     "metadata": {},
     "output_type": "execute_result"
    }
   ],
   "source": [
    "text[-3],text[-3::1]"
   ]
  },
  {
   "cell_type": "code",
   "execution_count": 19,
   "id": "46934a46-261b-41db-b450-db7fd7ee8934",
   "metadata": {},
   "outputs": [
    {
     "data": {
      "text/plain": [
       "'day'"
      ]
     },
     "execution_count": 19,
     "metadata": {},
     "output_type": "execute_result"
    }
   ],
   "source": [
    "text[-3::1]"
   ]
  },
  {
   "cell_type": "code",
   "execution_count": 20,
   "id": "d6bc8974-7ae3-4b16-86a2-7c3628f71eef",
   "metadata": {},
   "outputs": [
    {
     "data": {
      "text/plain": [
       "'yadsendeW yadseuT yadnoM'"
      ]
     },
     "execution_count": 20,
     "metadata": {},
     "output_type": "execute_result"
    }
   ],
   "source": [
    "text[::-1]"
   ]
  },
  {
   "cell_type": "code",
   "execution_count": null,
   "id": "b48f9cbe-c76f-4eaa-8d2d-f4ea9dc326c9",
   "metadata": {},
   "outputs": [],
   "source": []
  },
  {
   "cell_type": "markdown",
   "id": "confidential-porter",
   "metadata": {},
   "source": [
    "---"
   ]
  },
  {
   "cell_type": "markdown",
   "id": "purple-leisure",
   "metadata": {},
   "source": [
    "**Q 7:**\n",
    "\n",
    "Your text:\n",
    "\n",
    "'Monday Tuesday Wednesday'\n",
    "\n",
    "Do slicing operations on this text and answer the following questions:\n",
    "\n",
    "<pre>\n",
    "* find the chars between 2nd and 6th from last\n",
    "* find the chars between 2nd (inc.) and 6th from last\n",
    "* find the negative index which correspond to the char with index 10\n",
    "* find all characters except the last one\n",
    "* find all characters except the fist and the last one\n",
    "</pre>"
   ]
  },
  {
   "cell_type": "code",
   "execution_count": 21,
   "id": "round-vegetable",
   "metadata": {},
   "outputs": [
    {
     "data": {
      "text/plain": [
       "'adse'"
      ]
     },
     "execution_count": 21,
     "metadata": {},
     "output_type": "execute_result"
    }
   ],
   "source": [
    "# S 7:\n",
    "\n",
    "text = 'Monday Tuesday Wednesday'\n",
    "text[-2:-6:-1]"
   ]
  },
  {
   "cell_type": "code",
   "execution_count": null,
   "id": "20dc63a8-a9c0-4a09-b3d8-fd7a6b008fe1",
   "metadata": {},
   "outputs": [],
   "source": []
  },
  {
   "cell_type": "code",
   "execution_count": null,
   "id": "ea7d181c-4fee-4906-a4d3-ea11593f0af8",
   "metadata": {},
   "outputs": [],
   "source": []
  },
  {
   "cell_type": "code",
   "execution_count": null,
   "id": "114f5e44-4c7e-4004-b1f5-9ec151a42dc8",
   "metadata": {},
   "outputs": [],
   "source": []
  },
  {
   "cell_type": "code",
   "execution_count": null,
   "id": "c6ab4ef2-6884-465c-bf8e-b0a4a86e63f7",
   "metadata": {},
   "outputs": [],
   "source": []
  },
  {
   "cell_type": "code",
   "execution_count": null,
   "id": "74ae5342-212a-4eaf-9751-ace4fa90f160",
   "metadata": {},
   "outputs": [],
   "source": []
  },
  {
   "cell_type": "markdown",
   "id": "coordinate-tension",
   "metadata": {},
   "source": [
    "---"
   ]
  },
  {
   "cell_type": "markdown",
   "id": "bored-playlist",
   "metadata": {},
   "source": [
    "**Q 8:**\n",
    "\n",
    "Define a function named **split_email**.\n",
    "\n",
    "It will ask for an email from the user.\n",
    "\n",
    "And it will split the email into user name and domain name using **index**.\n",
    "\n",
    "**Hints:**\n",
    "* if the input doesn't include '@' char, return a text as 'Invalid email format.'\n",
    "\n",
    "<pre>\n",
    "Expected output:\n",
    "\n",
    "Please enter an email:  abc@acme.corp\n",
    "User Name: abc\n",
    "Domain: acme.corp\n",
    "</pre>"
   ]
  },
  {
   "cell_type": "code",
   "execution_count": 44,
   "id": "possible-chase",
   "metadata": {},
   "outputs": [],
   "source": [
    "# S 8:\n",
    "\n",
    "\n",
    "    "
   ]
  },
  {
   "cell_type": "code",
   "execution_count": 45,
   "id": "inside-outside",
   "metadata": {},
   "outputs": [
    {
     "name": "stdin",
     "output_type": "stream",
     "text": [
      "Please enter an email:  sdfasf\n"
     ]
    },
    {
     "name": "stdout",
     "output_type": "stream",
     "text": [
      "Invalid email format.\n"
     ]
    }
   ],
   "source": [
    "split_email()"
   ]
  },
  {
   "cell_type": "code",
   "execution_count": 47,
   "id": "reverse-archive",
   "metadata": {},
   "outputs": [
    {
     "name": "stdin",
     "output_type": "stream",
     "text": [
      "Please enter an email:  example_email@test.com\n"
     ]
    },
    {
     "name": "stdout",
     "output_type": "stream",
     "text": [
      "User Name: example_email\n",
      "Domain: test.com\n"
     ]
    }
   ],
   "source": [
    "split_email()"
   ]
  },
  {
   "cell_type": "code",
   "execution_count": 48,
   "id": "completed-campbell",
   "metadata": {},
   "outputs": [
    {
     "name": "stdin",
     "output_type": "stream",
     "text": [
      "Please enter an email:  abc@acme.corp\n"
     ]
    },
    {
     "name": "stdout",
     "output_type": "stream",
     "text": [
      "User Name: abc\n",
      "Domain: acme.corp\n"
     ]
    }
   ],
   "source": [
    "split_email()"
   ]
  },
  {
   "cell_type": "markdown",
   "id": "honey-prescription",
   "metadata": {},
   "source": [
    "---"
   ]
  },
  {
   "cell_type": "markdown",
   "id": "black-bride",
   "metadata": {},
   "source": [
    "**Q 9:**\n",
    "\n",
    "Define a function named **reverse**.\n",
    "\n",
    "It will ask for a sentence from the user and return the reverse of this sentence.\n",
    "\n",
    "<pre>\n",
    "Expected Output:\n",
    "\n",
    "Please enter a sentence:  yesterday came suddenly\n",
    "'ylneddus emac yadretsey\n",
    "</pre>"
   ]
  },
  {
   "cell_type": "code",
   "execution_count": 22,
   "id": "acceptable-conviction",
   "metadata": {},
   "outputs": [],
   "source": [
    "# S 9:\n",
    "def reverse():\n",
    "    text=input('Please enter a sentence:')\n",
    "    return text[::-1]\n",
    "\n"
   ]
  },
  {
   "cell_type": "code",
   "execution_count": 23,
   "id": "adjacent-official",
   "metadata": {},
   "outputs": [
    {
     "name": "stdin",
     "output_type": "stream",
     "text": [
      "Please enter a sentence: yesterday came suddenly\n"
     ]
    },
    {
     "data": {
      "text/plain": [
       "'ylneddus emac yadretsey'"
      ]
     },
     "execution_count": 23,
     "metadata": {},
     "output_type": "execute_result"
    }
   ],
   "source": [
    "reverse()"
   ]
  },
  {
   "cell_type": "code",
   "execution_count": 24,
   "id": "affecting-terror",
   "metadata": {},
   "outputs": [
    {
     "name": "stdin",
     "output_type": "stream",
     "text": [
      "Please enter a sentence: python data science\n"
     ]
    },
    {
     "data": {
      "text/plain": [
       "'ecneics atad nohtyp'"
      ]
     },
     "execution_count": 24,
     "metadata": {},
     "output_type": "execute_result"
    }
   ],
   "source": [
    "reverse()"
   ]
  },
  {
   "cell_type": "markdown",
   "id": "colored-boost",
   "metadata": {},
   "source": [
    "---"
   ]
  },
  {
   "cell_type": "markdown",
   "id": "encouraging-shirt",
   "metadata": {},
   "source": [
    "**Q 10:**\n",
    "\n",
    "Define a function named **replace_with_next_letter**.\n",
    "\n",
    "It will ask for an input from the user.\n",
    "\n",
    "And will replace every character with the next letter in the English alphabet.\n",
    "\n",
    "**Hints:**\n",
    "* use nested functions\n",
    "* there should be is_lower() and is_upper() functions to check whether the char is small or upper\n",
    "* there should be next_letter() function to take a letter and return the next one from alphabet\n",
    "* alphabets:\n",
    "    * alphabet_lower = 'abcdefghijklmnoprstuvyz'\n",
    "    * alphabet_upper = 'ABCDEFGHIJKLMNOPRSTUVYZ'\n",
    "* use index to get the related letter\n",
    "\n",
    "<pre>\n",
    "Expected Output:\n",
    "\n",
    "Please enter a text:  Python\n",
    "Rzuipo\n",
    "\n",
    "Please enter a text:  abcZ\n",
    "bcdA\n",
    "</pre>"
   ]
  },
  {
   "cell_type": "code",
   "execution_count": 28,
   "id": "novel-hollywood",
   "metadata": {},
   "outputs": [],
   "source": [
    "# S 10:\n",
    "from string import (ascii_lowercase,ascii_uppercase)\n",
    "from typing import Sequence\n",
    "def replace_with_next_letter(string: str,*,alphabets: Sequence[str] = (ascii_lowercase, ascii_uppercase),\n",
    "          step: int = 1) -> str:\n",
    "    \"\"\"Shifts `string` by `step` in `alphabets`\"\"\"\n",
    "\n",
    "    def shift_char(char):\n",
    "        for alphabet in alphabets:\n",
    "            try:\n",
    "                return alphabet[(alphabet.index(char) + step) % len(alphabet)]\n",
    "            except ValueError:\n",
    "                pass\n",
    "        return char\n",
    "\n",
    "    return ''.join(map(shift_char, string))\n",
    "    \n",
    "\n",
    "\n",
    "    "
   ]
  },
  {
   "cell_type": "code",
   "execution_count": 30,
   "id": "electoral-panama",
   "metadata": {},
   "outputs": [
    {
     "data": {
      "text/plain": [
       "'bcdA'"
      ]
     },
     "execution_count": 30,
     "metadata": {},
     "output_type": "execute_result"
    }
   ],
   "source": [
    "replace_with_next_letter('abcZ')"
   ]
  },
  {
   "cell_type": "code",
   "execution_count": 60,
   "id": "advisory-python",
   "metadata": {},
   "outputs": [
    {
     "name": "stdin",
     "output_type": "stream",
     "text": [
      "Please enter a text:  abcZ\n"
     ]
    },
    {
     "name": "stdout",
     "output_type": "stream",
     "text": [
      "bcdA\n"
     ]
    }
   ],
   "source": [
    "new_text = replace_with_next_letter()\n",
    "print(new_text)"
   ]
  },
  {
   "cell_type": "code",
   "execution_count": null,
   "id": "compressed-saint",
   "metadata": {},
   "outputs": [],
   "source": []
  }
 ],
 "metadata": {
  "kernelspec": {
   "display_name": "Python 3 (ipykernel)",
   "language": "python",
   "name": "python3"
  },
  "language_info": {
   "codemirror_mode": {
    "name": "ipython",
    "version": 3
   },
   "file_extension": ".py",
   "mimetype": "text/x-python",
   "name": "python",
   "nbconvert_exporter": "python",
   "pygments_lexer": "ipython3",
   "version": "3.9.12"
  }
 },
 "nbformat": 4,
 "nbformat_minor": 5
}
