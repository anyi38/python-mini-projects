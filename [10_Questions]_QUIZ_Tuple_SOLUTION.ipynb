{
 "cells": [
  {
   "cell_type": "markdown",
   "id": "private-pipeline",
   "metadata": {},
   "source": [
    "## [10 Questions] QUIZ - Tuple - SOLUTION"
   ]
  },
  {
   "cell_type": "markdown",
   "id": "split-ending",
   "metadata": {},
   "source": [
    "**Q 1:**\n",
    "\n",
    "Define a function named **create_tuple**.\n",
    "\n",
    "It will create a tuple of numbers from 1 to 10.\n",
    "\n",
    "Then it will add numbers from 11 to 20 to this tuple.\n",
    "\n",
    "And it will return the final form of the tuple.\n",
    "\n",
    "**Hints:**\n",
    "* Tuples are Immutable. So how do you add elements to a Tuple?\n",
    "* use `for` loop\n",
    "* `range()`\n",
    "\n",
    "<pre style=\"background: gold;\">\n",
    "Result: (1, 2, 3, 4, 5, 6, 7, 8, 9, 10, 11, 12, 13, 14, 15, 16, 17, 18, 19, 20)\n",
    "</pre>"
   ]
  },
  {
   "cell_type": "code",
   "execution_count": 1,
   "id": "heated-legislation",
   "metadata": {},
   "outputs": [],
   "source": [
    "# S 1:\n",
    "\n",
    "def create_tuple():\n",
    "    \n",
    "    # create the tuple\n",
    "    tup = (1,2,3,4,5,6,7,8,9,10)\n",
    "    \n",
    "    # add items\n",
    "    for i in range(11, 21):\n",
    "        \n",
    "        # create a new temp tuple via addition\n",
    "        # (i,) -> tuple with one element\n",
    "        new_tup = tup + (i,)\n",
    "        \n",
    "        # reassign the new tuple\n",
    "        tup = new_tup\n",
    "\n",
    "        \n",
    "    return tup\n"
   ]
  },
  {
   "cell_type": "code",
   "execution_count": 2,
   "id": "synthetic-gilbert",
   "metadata": {},
   "outputs": [
    {
     "name": "stdout",
     "output_type": "stream",
     "text": [
      "(1, 2, 3, 4, 5, 6, 7, 8, 9, 10, 11, 12, 13, 14, 15, 16, 17, 18, 19, 20)\n"
     ]
    }
   ],
   "source": [
    "t = create_tuple()\n",
    "\n",
    "print(t)"
   ]
  },
  {
   "cell_type": "markdown",
   "id": "sitting-guidance",
   "metadata": {},
   "source": [
    "---"
   ]
  },
  {
   "cell_type": "markdown",
   "id": "later-announcement",
   "metadata": {},
   "source": [
    "**Q 2:**\n",
    "\n",
    "Define a function named **tuple_to_string**.\n",
    "\n",
    "It will take a Tuple as parameter and convert it into a String.\n",
    "\n",
    "Then it will return this String.\n",
    "\n",
    "**Hints:**\n",
    "* `join()`\n",
    "\n",
    "<pre style=\"background: gold;\">\n",
    "Parameter:\n",
    "t = ('M', 'a', 'c', 'h', 'i', 'n', 'e', ' ', 'L', 'e', 'a', 'r', 'n', 'i', 'n', 'g')\n",
    "\n",
    "Expected Output: Machine Learning\n",
    "</pre>"
   ]
  },
  {
   "cell_type": "code",
   "execution_count": 9,
   "id": "dependent-courtesy",
   "metadata": {},
   "outputs": [],
   "source": [
    "# S 2:\n",
    "\n",
    "def tuple_to_string(tup):\n",
    "    \n",
    "    text = ''.join(tup)\n",
    "\n",
    "    return text\n",
    "    "
   ]
  },
  {
   "cell_type": "code",
   "execution_count": 10,
   "id": "existing-glucose",
   "metadata": {},
   "outputs": [
    {
     "name": "stdout",
     "output_type": "stream",
     "text": [
      "Machine Learning\n"
     ]
    }
   ],
   "source": [
    "t = ('M', 'a', 'c', 'h', 'i', 'n', 'e', ' ', 'L', 'e', 'a', 'r', 'n', 'i', 'n', 'g')\n",
    "\n",
    "t = tuple_to_string(t)\n",
    "\n",
    "print(t)"
   ]
  },
  {
   "cell_type": "markdown",
   "id": "contemporary-captain",
   "metadata": {},
   "source": [
    "---"
   ]
  },
  {
   "cell_type": "markdown",
   "id": "cultural-colon",
   "metadata": {},
   "source": [
    "**Q 3:**\n",
    "\n",
    "Define a function named **string_to_list_to_tuple**.\n",
    "\n",
    "It will take String as parameter.\n",
    "\n",
    "First it will convert this String into a List, then it will convert this List into a Tuple.\n",
    "\n",
    "Finally it will return the Tuple.\n",
    "\n",
    "**Hints:**\n",
    "* only use `constructor` methods\n",
    "    * list()\n",
    "    * tuple()\n",
    "    \n",
    "<pre style=\"background: gold;\">\n",
    "Parameter:\n",
    "pythons_father = 'Guido van Rossum'\n",
    "\n",
    "Expected Result: ('G', 'u', 'i', 'd', 'o', ' ', 'v', 'a', 'n', ' ', 'R', 'o', 's', 's', 'u', 'm')\n",
    "</pre>"
   ]
  },
  {
   "cell_type": "code",
   "execution_count": 11,
   "id": "amino-berkeley",
   "metadata": {},
   "outputs": [],
   "source": [
    "# S 3:\n",
    "\n",
    "def string_to_list_to_tuple(text):\n",
    "    \n",
    "    # first String -> List\n",
    "    a_list = list(text)\n",
    "    \n",
    "    # now List -> Tuple\n",
    "    tup = tuple(a_list)\n",
    "    \n",
    "    return tup\n",
    "    "
   ]
  },
  {
   "cell_type": "code",
   "execution_count": 12,
   "id": "commercial-wrapping",
   "metadata": {},
   "outputs": [
    {
     "name": "stdout",
     "output_type": "stream",
     "text": [
      "('G', 'u', 'i', 'd', 'o', ' ', 'v', 'a', 'n', ' ', 'R', 'o', 's', 's', 'u', 'm')\n"
     ]
    }
   ],
   "source": [
    "pythons_father = 'Guido van Rossum'\n",
    "father_tuple = string_to_list_to_tuple(pythons_father)\n",
    "print(father_tuple)"
   ]
  },
  {
   "cell_type": "markdown",
   "id": "loved-tokyo",
   "metadata": {},
   "source": [
    "---"
   ]
  },
  {
   "cell_type": "markdown",
   "id": "obvious-framework",
   "metadata": {},
   "source": [
    "**Q 4:**\n",
    "\n",
    "Define a function named **how_many_instances**.\n",
    "\n",
    "It will take a Tuple and an index (int) as parameter.\n",
    "\n",
    "Function will first find the element at that index.\n",
    "\n",
    "Then it will return the number of instances of the element in the Tuple.\n",
    "\n",
    "**Hints:**\n",
    "* count()\n",
    "\n",
    "<pre style=\"background: gold;\">\n",
    "Parameters:\n",
    "t = (5, 2, 3, 3, 4, 2, 1, 3, 4, 5, 2, 1, 2)\n",
    "i = 1\n",
    "\n",
    "how_many_instances(t, i)\n",
    "\n",
    "Expected Output: 4\n",
    "</pre>"
   ]
  },
  {
   "cell_type": "code",
   "execution_count": 1,
   "id": "hindu-campus",
   "metadata": {},
   "outputs": [],
   "source": [
    "# S 4:\n",
    "\n",
    "def how_many_instances(tup, index):\n",
    "    \n",
    "    # get the element at index\n",
    "    el = tup[index]\n",
    "\n",
    "    # count()\n",
    "    return tup.count(el)\n",
    "    "
   ]
  },
  {
   "cell_type": "code",
   "execution_count": 3,
   "id": "medieval-fight",
   "metadata": {},
   "outputs": [
    {
     "name": "stdout",
     "output_type": "stream",
     "text": [
      "2\n"
     ]
    }
   ],
   "source": [
    "t = (5, 2, 3, 3, 4, 2, 1, 3, 4, 5, 2, 1, 2)\n",
    "i = 0\n",
    "count = how_many_instances(t, i)\n",
    "print(count)"
   ]
  },
  {
   "cell_type": "code",
   "execution_count": 15,
   "id": "facial-correction",
   "metadata": {},
   "outputs": [
    {
     "name": "stdout",
     "output_type": "stream",
     "text": [
      "2\n"
     ]
    }
   ],
   "source": [
    "text = ('G', 'u', 'i', 'd', 'o', ' ', 'v', 'a', 'n', ' ', 'R', 'o', 's', 's', 'u', 'm')\n",
    "ind = 4\n",
    "print(how_many_instances(text, ind))"
   ]
  },
  {
   "cell_type": "markdown",
   "id": "forced-python",
   "metadata": {},
   "source": [
    "---"
   ]
  },
  {
   "cell_type": "markdown",
   "id": "usual-vanilla",
   "metadata": {},
   "source": [
    "**Q 5:**\n",
    "\n",
    "Slicing Operations in Tuples are exactly the same as in Lists and Strings.\n",
    "\n",
    "Our Tuple is:\n",
    "\n",
    "<pre> tup = ('a', 'b', 'c', 'd', 'e', 'f', 'g', 'h', 'i', 'j') </pre>\n",
    "\n",
    "Find the items in tup, based on slicing and indexing:\n",
    "1. items from position 4 (inc) to position 7 (inc)\n",
    "2. the first 5 items\n",
    "3. items from position 6 (inc)\n",
    "4. all items\n",
    "5. 2nd item from the last\n",
    "6. last 4 items\n",
    "7. items from position 2 to 8, with step size 2\n",
    "8. all items with step size 3\n",
    "9. items from position 9 to position 3 (exc) but in reverse order\n",
    "10. print the tup in reverse order\n",
    "11. print the tup in reverse order with step size 2\n",
    "12. all the elements excluding the last one, with negative index"
   ]
  },
  {
   "cell_type": "code",
   "execution_count": 16,
   "id": "automatic-publisher",
   "metadata": {},
   "outputs": [
    {
     "data": {
      "text/plain": [
       "('a', 'b', 'c', 'd', 'e', 'f', 'g', 'h', 'i', 'j')"
      ]
     },
     "execution_count": 16,
     "metadata": {},
     "output_type": "execute_result"
    }
   ],
   "source": [
    "# S:\n",
    "\n",
    "tup = ('a', 'b', 'c', 'd', 'e', 'f', 'g', 'h', 'i', 'j') \n",
    "tup"
   ]
  },
  {
   "cell_type": "code",
   "execution_count": 17,
   "id": "hungry-settle",
   "metadata": {},
   "outputs": [
    {
     "data": {
      "text/plain": [
       "('d', 'e', 'f', 'g')"
      ]
     },
     "execution_count": 17,
     "metadata": {},
     "output_type": "execute_result"
    }
   ],
   "source": [
    "# 1. items from position 4 (inc) to position 7 (inc)\n",
    "# position 4 -> index 3 (index starts 0)\n",
    "# position 7 -> index 6  (since it is included the end index will be 7)\n",
    "\n",
    "tup[3:7]"
   ]
  },
  {
   "cell_type": "code",
   "execution_count": 18,
   "id": "other-blink",
   "metadata": {},
   "outputs": [
    {
     "data": {
      "text/plain": [
       "('a', 'b', 'c', 'd', 'e')"
      ]
     },
     "execution_count": 18,
     "metadata": {},
     "output_type": "execute_result"
    }
   ],
   "source": [
    "# 2. the first 5 items\n",
    "\n",
    "tup[:5]"
   ]
  },
  {
   "cell_type": "code",
   "execution_count": 19,
   "id": "japanese-manner",
   "metadata": {},
   "outputs": [
    {
     "data": {
      "text/plain": [
       "('f', 'g', 'h', 'i', 'j')"
      ]
     },
     "execution_count": 19,
     "metadata": {},
     "output_type": "execute_result"
    }
   ],
   "source": [
    "# 3. items from position 6 (inc)\n",
    "\n",
    "tup[5:]"
   ]
  },
  {
   "cell_type": "code",
   "execution_count": 20,
   "id": "parental-material",
   "metadata": {},
   "outputs": [
    {
     "data": {
      "text/plain": [
       "('a', 'b', 'c', 'd', 'e', 'f', 'g', 'h', 'i', 'j')"
      ]
     },
     "execution_count": 20,
     "metadata": {},
     "output_type": "execute_result"
    }
   ],
   "source": [
    "# 4. all items\n",
    "\n",
    "tup[::]"
   ]
  },
  {
   "cell_type": "code",
   "execution_count": 21,
   "id": "auburn-graphic",
   "metadata": {},
   "outputs": [
    {
     "data": {
      "text/plain": [
       "'i'"
      ]
     },
     "execution_count": 21,
     "metadata": {},
     "output_type": "execute_result"
    }
   ],
   "source": [
    "# 5. 2nd item from the last\n",
    "\n",
    "tup[-2]"
   ]
  },
  {
   "cell_type": "code",
   "execution_count": 25,
   "id": "acute-awareness",
   "metadata": {},
   "outputs": [
    {
     "data": {
      "text/plain": [
       "('g', 'h', 'i', 'j')"
      ]
     },
     "execution_count": 25,
     "metadata": {},
     "output_type": "execute_result"
    }
   ],
   "source": [
    "# 6. last 4 items\n",
    "# -4 , -3 , -2, -1\n",
    "\n",
    "tup[-4:]"
   ]
  },
  {
   "cell_type": "code",
   "execution_count": 26,
   "id": "drawn-maple",
   "metadata": {},
   "outputs": [
    {
     "data": {
      "text/plain": [
       "('b', 'd', 'f', 'h')"
      ]
     },
     "execution_count": 26,
     "metadata": {},
     "output_type": "execute_result"
    }
   ],
   "source": [
    "# 7. items from position 2 to 8, with step size 2\n",
    "\n",
    "tup[1:8:2]"
   ]
  },
  {
   "cell_type": "code",
   "execution_count": 27,
   "id": "exotic-austin",
   "metadata": {},
   "outputs": [
    {
     "data": {
      "text/plain": [
       "('a', 'd', 'g', 'j')"
      ]
     },
     "execution_count": 27,
     "metadata": {},
     "output_type": "execute_result"
    }
   ],
   "source": [
    "# 8. all items with step size 3\n",
    "\n",
    "tup[::3]"
   ]
  },
  {
   "cell_type": "code",
   "execution_count": 28,
   "id": "breeding-smooth",
   "metadata": {},
   "outputs": [
    {
     "data": {
      "text/plain": [
       "('i', 'h', 'g', 'f', 'e', 'd')"
      ]
     },
     "execution_count": 28,
     "metadata": {},
     "output_type": "execute_result"
    }
   ],
   "source": [
    "# 9. items from position 9 to position 3 (exc) but in reverse order\n",
    "# reverse order -> -step size\n",
    "\n",
    "tup[8:2:-1]"
   ]
  },
  {
   "cell_type": "code",
   "execution_count": 29,
   "id": "integral-authentication",
   "metadata": {},
   "outputs": [
    {
     "data": {
      "text/plain": [
       "('j', 'i', 'h', 'g', 'f', 'e', 'd', 'c', 'b', 'a')"
      ]
     },
     "execution_count": 29,
     "metadata": {},
     "output_type": "execute_result"
    }
   ],
   "source": [
    "# 10. print the tup in reverse order\n",
    "\n",
    "tup[::-1]"
   ]
  },
  {
   "cell_type": "code",
   "execution_count": 30,
   "id": "pressed-baker",
   "metadata": {},
   "outputs": [
    {
     "data": {
      "text/plain": [
       "('j', 'h', 'f', 'd', 'b')"
      ]
     },
     "execution_count": 30,
     "metadata": {},
     "output_type": "execute_result"
    }
   ],
   "source": [
    "# 11. print the tup in reverse order with step size 2\n",
    "\n",
    "tup[::-2]"
   ]
  },
  {
   "cell_type": "code",
   "execution_count": 31,
   "id": "nominated-bulgaria",
   "metadata": {},
   "outputs": [
    {
     "data": {
      "text/plain": [
       "('a', 'b', 'c', 'd', 'e', 'f', 'g', 'h', 'i')"
      ]
     },
     "execution_count": 31,
     "metadata": {},
     "output_type": "execute_result"
    }
   ],
   "source": [
    "# 12. all the elements excluding the last one, with negative index\n",
    "\n",
    "tup[:-1]"
   ]
  },
  {
   "cell_type": "markdown",
   "id": "overall-serve",
   "metadata": {},
   "source": [
    "---"
   ]
  },
  {
   "cell_type": "markdown",
   "id": "herbal-party",
   "metadata": {},
   "source": [
    "**Q 6:**\n",
    "\n",
    "Define a function named **change_tuple_ending**.\n",
    "\n",
    "It will take a List as parameter.\n",
    "\n",
    "The elements of this list will be Tuples.\n",
    "\n",
    "Each Tuple may be in different length, so the size of the elements in the list is not fixed.\n",
    "\n",
    "The function will replace the last item in each Tuple element in the list with its square.\n",
    "\n",
    "**Hints:**\n",
    "* Mutate the original list (the parameter list will change in-place)\n",
    "* How can you get last element in a Tuple?\n",
    "* How to mutate the list, while looping over it?\n",
    "* You need to find a way to mutate the list (enumerate())\n",
    "* How to create a Tuple with single element?\n",
    "\n",
    "<pre style=\"background: gold;\">\n",
    "Parameter:\n",
    "tuple_list = [(2,5,8), (4,3), (1,7,9,6), (5,)]\n",
    "\n",
    "Expected Output:\n",
    "tuple_list = [(2,5,64), (4,9), (1,7,9,36), (25,)]\n",
    "</pre>"
   ]
  },
  {
   "cell_type": "code",
   "execution_count": 4,
   "id": "boring-frederick",
   "metadata": {},
   "outputs": [],
   "source": [
    "# S 6:\n",
    "\n",
    "def change_tuple_ending(a_list):\n",
    "    \n",
    "    for index, tup in enumerate(a_list):\n",
    "        \n",
    "        # get the tuple items up to the last one\n",
    "        items_up_to_last = tup[:-1]\n",
    "        \n",
    "        # last element -> square it\n",
    "        last_item = tup[-1]**2\n",
    "        \n",
    "        # concat them -> override tup\n",
    "        tup = items_up_to_last + (last_item,)\n",
    "        \n",
    "        # mutate the list -> change the current element\n",
    "        a_list[index] = tup\n",
    "    "
   ]
  },
  {
   "cell_type": "code",
   "execution_count": 5,
   "id": "insured-letter",
   "metadata": {},
   "outputs": [
    {
     "name": "stdout",
     "output_type": "stream",
     "text": [
      "tuple_list before passing to function: [(2, 5, 8), (4, 3), (1, 7, 9, 6), (5,)]\n",
      "tuple_list after passing to function: [(2, 5, 64), (4, 9), (1, 7, 9, 36), (25,)]\n"
     ]
    }
   ],
   "source": [
    "tuple_list = [(2,5,8), (4,3), (1,7,9,6), (5,)]\n",
    "print('tuple_list before passing to function:', tuple_list)\n",
    "\n",
    "change_tuple_ending(tuple_list)\n",
    "print('tuple_list after passing to function:', tuple_list)"
   ]
  },
  {
   "cell_type": "markdown",
   "id": "personal-tokyo",
   "metadata": {},
   "source": [
    "---"
   ]
  },
  {
   "cell_type": "markdown",
   "id": "protected-highland",
   "metadata": {},
   "source": [
    "**Q 7:**\n",
    "\n",
    "Define a function named **replace_tuple_with_sqaure**.\n",
    "\n",
    "It will taka a List as parameter.\n",
    "\n",
    "The items in this List are Tuples.\n",
    "\n",
    "Each Tuple may be in different length, so the size of the elements in the list is not fixed.\n",
    "\n",
    "The function will replace each element of Tuples with its square.\n",
    "\n",
    "And it will return the new list of squared Tuples.\n",
    "\n",
    "**Hint:**\n",
    "* Do not change the parameter\n",
    "* How to mutate the list while looping over it?\n",
    "\n",
    "<pre style=\"background: gold;\">\n",
    "Parameter:\n",
    "tuple_liste = [(2,5,8), (4,3), (1,7,9,6), (5,)]\n",
    "\n",
    "Expected Output:\n",
    "new_tuple_list = [(4,25,64), (16,9), (1,49,81,36), (25,)]\n",
    "</pre>"
   ]
  },
  {
   "cell_type": "code",
   "execution_count": 34,
   "id": "trying-marina",
   "metadata": {},
   "outputs": [],
   "source": [
    "# S 7:\n",
    "\n",
    "def replace_tuple_with_sqaure(a_list):\n",
    "    \n",
    "    # new_list \n",
    "    new_list = a_list.copy()\n",
    "    \n",
    "    for index, tup in enumerate(new_list):\n",
    "        \n",
    "        new_tup = tuple()\n",
    "        \n",
    "        # loop over the tup items\n",
    "        for t in tup:\n",
    "            new_tup += (t**2,)\n",
    "        \n",
    "        # mutate the list\n",
    "        new_list[index] = new_tup\n",
    "        \n",
    "        \n",
    "    return new_list\n",
    "        "
   ]
  },
  {
   "cell_type": "code",
   "execution_count": 35,
   "id": "danish-title",
   "metadata": {},
   "outputs": [
    {
     "name": "stdout",
     "output_type": "stream",
     "text": [
      "tuple_list: [(2, 5, 8), (4, 3), (1, 7, 9, 6), (5,)]\n",
      "new_tuple_list: [(4, 25, 64), (16, 9), (1, 49, 81, 36), (25,)]\n"
     ]
    }
   ],
   "source": [
    "tuple_list = [(2,5,8), (4,3), (1,7,9,6), (5,)]\n",
    "\n",
    "new_tuple_list = replace_tuple_with_sqaure(tuple_list)\n",
    "\n",
    "print('tuple_list:', tuple_list)\n",
    "print('new_tuple_list:', new_tuple_list)"
   ]
  },
  {
   "cell_type": "markdown",
   "id": "lesbian-punishment",
   "metadata": {},
   "source": [
    "---"
   ]
  },
  {
   "cell_type": "markdown",
   "id": "useful-understanding",
   "metadata": {},
   "source": [
    "**Q 8:**\n",
    "\n",
    "Define a function named **movie_characters**.\n",
    "\n",
    "It will take 4 lists as parameters.\n",
    "\n",
    "4 lists:\n",
    "* List 1 -> Actor/Actress Name\n",
    "* List 2 -> Movie Title\n",
    "* List 3 -> Release Year\n",
    "* List 4 -> Character Name\n",
    "\n",
    "Function will take these 4 lists and create 2 Tuples out of them.\n",
    "\n",
    "Each Tuple will have 2 elements.\n",
    "* Tuple 1 -> (Actor/Actress Name, Character Name)\n",
    "* Tuple 2 -> (Movie Title, Release Year)\n",
    "\n",
    "It will use the Tuple 1 as the Key and Tuple 2 as the Value and craete a Dictionary.\n",
    "\n",
    "And it will return this dictionary.\n",
    "\n",
    "**Hints:**\n",
    "* `zip()`\n",
    "\n",
    "<pre style=\"background: gold\">\n",
    "Parameters:\n",
    "actors = ['Marlon Brando', 'Heath Ledger', 'Natalie Portman', 'Emma Stone']\n",
    "characters = ['Don Vito Corleone', 'Joker', 'The Swan Queen', 'Mia']\n",
    "movies = ['The Godfather', 'The Dark Knight', 'Black Swan', 'La La Land']\n",
    "years = [1972, 2008, 2010, 2016]\n",
    "\n",
    "Expected Output:\n",
    "{('Marlon Brando', 'Don Vito Corleone'): ('The Godfather', 1972),\n",
    " ('Heath Ledger', 'Joker'): ('The Dark Knight', 2008),\n",
    " ('Natalie Portman', 'The Swan Queen'): ('Black Swan', 2010),\n",
    " ('Emma Stone', 'Mia'): ('La La Land', 2016)}\n",
    "</pre>"
   ]
  },
  {
   "cell_type": "code",
   "execution_count": 36,
   "id": "wired-iceland",
   "metadata": {},
   "outputs": [],
   "source": [
    "# S 8:\n",
    "\n",
    "def movie_characters(actors, characters, movies, years):\n",
    "    \n",
    "    # create an empty dict\n",
    "    dictionary = {}\n",
    "    \n",
    "    # loop over the 4 lists -> zip()\n",
    "    for actor, character, movie, year in zip(actors, characters, movies, years):\n",
    "        \n",
    "        # create and add tuples into dictionary\n",
    "        dictionary[(actor, character)] = (movie, year)\n",
    "\n",
    "    \n",
    "    return dictionary\n",
    "    "
   ]
  },
  {
   "cell_type": "code",
   "execution_count": 37,
   "id": "nominated-luther",
   "metadata": {},
   "outputs": [
    {
     "data": {
      "text/plain": [
       "{('Marlon Brando', 'Don Vito Corleone'): ('The Godfather', 1972),\n",
       " ('Heath Ledger', 'Joker'): ('The Dark Knight', 2008),\n",
       " ('Natalie Portman', 'The Swan Queen'): ('Black Swan', 2010),\n",
       " ('Emma Stone', 'Mia'): ('La La Land', 2016)}"
      ]
     },
     "execution_count": 37,
     "metadata": {},
     "output_type": "execute_result"
    }
   ],
   "source": [
    "# lists:\n",
    "actors = ['Marlon Brando', 'Heath Ledger', 'Natalie Portman', 'Emma Stone']\n",
    "characters = ['Don Vito Corleone', 'Joker', 'The Swan Queen', 'Mia']\n",
    "movies = ['The Godfather', 'The Dark Knight', 'Black Swan', 'La La Land']\n",
    "years = [1972, 2008, 2010, 2016]\n",
    "\n",
    "# call the functions\n",
    "movie_dictionary = movie_characters(actors, characters, movies, years)\n",
    "movie_dictionary"
   ]
  },
  {
   "cell_type": "markdown",
   "id": "early-estate",
   "metadata": {},
   "source": [
    "---"
   ]
  },
  {
   "cell_type": "markdown",
   "id": "surprising-occupation",
   "metadata": {},
   "source": [
    "**Q 9:**\n",
    "\n",
    "Define a function named **sort_tuple_of_tuples**.\n",
    "\n",
    "It will take a Tuple as the parameter.\n",
    "\n",
    "The elements inside this Tuple are also Tuples.\n",
    "\n",
    "Namely, the parameter is a Tuple of Tuples.\n",
    "\n",
    "Each Tuple element contains 2 items.\n",
    "\n",
    "The function will sort the main Tuple and return a sorted Tuple.\n",
    "\n",
    "Sort Rule is going to be the second element in the inner Tuples.\n",
    "\n",
    "**Hints:**\n",
    "* `lambda`\n",
    "\n",
    "<pre style=\"background: gold\">\n",
    "Parameter:\n",
    "tuple_of_tuples = (('a', 12), ('e', 8), ('b', 16), ('c', 22))\n",
    "\n",
    "Expected Output:\n",
    "[('e', 8), ('a', 12), ('b', 16), ('c', 22)]\n",
    "</pre>"
   ]
  },
  {
   "cell_type": "code",
   "execution_count": 44,
   "id": "freelance-tutorial",
   "metadata": {},
   "outputs": [],
   "source": [
    "# S 9:\n",
    "\n",
    "def sort_tuple_of_tuples(tuple_of_tuples):\n",
    "\n",
    "    # print(tuple_of_tuples[3][0])\n",
    "    \n",
    "    # x -> ('c', 22) \n",
    "    # x[1] -> 22\n",
    "    return sorted(tuple_of_tuples, key = lambda x: x[1])\n",
    "    "
   ]
  },
  {
   "cell_type": "code",
   "execution_count": 46,
   "id": "persistent-register",
   "metadata": {},
   "outputs": [
    {
     "data": {
      "text/plain": [
       "[('e', 8), ('a', 12), ('b', 16), ('c', 22)]"
      ]
     },
     "execution_count": 46,
     "metadata": {},
     "output_type": "execute_result"
    }
   ],
   "source": [
    "tuple_of_tuples = (('a', 12), ('e', 8), ('b', 16), ('c', 22))\n",
    "\n",
    "sorted_tuple = sort_tuple_of_tuples(tuple_of_tuples)\n",
    "sorted_tuple"
   ]
  },
  {
   "cell_type": "markdown",
   "id": "horizontal-childhood",
   "metadata": {},
   "source": [
    "---"
   ]
  },
  {
   "cell_type": "markdown",
   "id": "recorded-springer",
   "metadata": {},
   "source": [
    "**Q 10:**\n",
    "\n",
    "Define a function named **number_of_occurences**.\n",
    "\n",
    "It will take Tuple of integers and a number as parameters.\n",
    "\n",
    "It will return the number of occurences of that number in the Tuple.\n",
    "\n",
    "It will use the function defined in Q4 (how_many_instances) to find the count. (It will not do the counting itself.)\n",
    "\n",
    "If the number does not exist in the Tuple, it will return: 'Number not in Tuple!'.\n",
    "\n",
    "**Hints:**\n",
    "* function returning a function\n",
    "* raise\n",
    "* index()\n",
    "\n",
    "<pre style=\"background: gold\">\n",
    "Parameters:\n",
    "tup = (5, 2, 3, 3, 4, 2, 1, 3, 4, 5, 2, 1, 2)\n",
    "num = 2\n",
    "\n",
    "Expected Output:\n",
    "4\n",
    "</pre>"
   ]
  },
  {
   "cell_type": "code",
   "execution_count": 47,
   "id": "elect-panel",
   "metadata": {},
   "outputs": [],
   "source": [
    "# S 10:\n",
    "\n",
    "def number_of_occurences(tup, num):\n",
    "    \n",
    "    # check if the num is in tup\n",
    "    if not num in tup:\n",
    "        raise Exception('Number not in Tuple!')\n",
    "    else:\n",
    "        \n",
    "        # call the function in Q4\n",
    "        # how_many_instances(tup, index)\n",
    "    \n",
    "        # tuple.index(el) -> first found index\n",
    "        index = tup.index(num)\n",
    "        \n",
    "        # return the function\n",
    "        return how_many_instances(tup, index)\n",
    "    "
   ]
  },
  {
   "cell_type": "code",
   "execution_count": 48,
   "id": "unlikely-bearing",
   "metadata": {},
   "outputs": [
    {
     "data": {
      "text/plain": [
       "4"
      ]
     },
     "execution_count": 48,
     "metadata": {},
     "output_type": "execute_result"
    }
   ],
   "source": [
    "tup = (5, 2, 3, 3, 4, 2, 1, 3, 4, 5, 2, 1, 2)\n",
    "num = 2\n",
    "\n",
    "number_of_occurences(tup, num)"
   ]
  },
  {
   "cell_type": "code",
   "execution_count": 49,
   "id": "collectible-registrar",
   "metadata": {},
   "outputs": [
    {
     "data": {
      "text/plain": [
       "2"
      ]
     },
     "execution_count": 49,
     "metadata": {},
     "output_type": "execute_result"
    }
   ],
   "source": [
    "tup = (5, 2, 3, 3, 4, 2, 1, 3, 4, 5, 2, 1, 2)\n",
    "num = 5\n",
    "\n",
    "number_of_occurences(tup, num)"
   ]
  },
  {
   "cell_type": "code",
   "execution_count": 50,
   "id": "organizational-classics",
   "metadata": {},
   "outputs": [
    {
     "ename": "Exception",
     "evalue": "Number not in Tuple!",
     "output_type": "error",
     "traceback": [
      "\u001b[1;31m---------------------------------------------------------------------------\u001b[0m",
      "\u001b[1;31mException\u001b[0m                                 Traceback (most recent call last)",
      "\u001b[1;32m<ipython-input-50-ef846877cd06>\u001b[0m in \u001b[0;36m<module>\u001b[1;34m\u001b[0m\n\u001b[0;32m      4\u001b[0m \u001b[0mnum\u001b[0m \u001b[1;33m=\u001b[0m \u001b[1;36m99\u001b[0m\u001b[1;33m\u001b[0m\u001b[1;33m\u001b[0m\u001b[0m\n\u001b[0;32m      5\u001b[0m \u001b[1;33m\u001b[0m\u001b[0m\n\u001b[1;32m----> 6\u001b[1;33m \u001b[0mnumber_of_occurences\u001b[0m\u001b[1;33m(\u001b[0m\u001b[0mtup\u001b[0m\u001b[1;33m,\u001b[0m \u001b[0mnum\u001b[0m\u001b[1;33m)\u001b[0m\u001b[1;33m\u001b[0m\u001b[1;33m\u001b[0m\u001b[0m\n\u001b[0m",
      "\u001b[1;32m<ipython-input-47-c83525d49b8d>\u001b[0m in \u001b[0;36mnumber_of_occurences\u001b[1;34m(tup, num)\u001b[0m\n\u001b[0;32m      5\u001b[0m     \u001b[1;31m# check if the num is in tup\u001b[0m\u001b[1;33m\u001b[0m\u001b[1;33m\u001b[0m\u001b[1;33m\u001b[0m\u001b[0m\n\u001b[0;32m      6\u001b[0m     \u001b[1;32mif\u001b[0m \u001b[1;32mnot\u001b[0m \u001b[0mnum\u001b[0m \u001b[1;32min\u001b[0m \u001b[0mtup\u001b[0m\u001b[1;33m:\u001b[0m\u001b[1;33m\u001b[0m\u001b[1;33m\u001b[0m\u001b[0m\n\u001b[1;32m----> 7\u001b[1;33m         \u001b[1;32mraise\u001b[0m \u001b[0mException\u001b[0m\u001b[1;33m(\u001b[0m\u001b[1;34m'Number not in Tuple!'\u001b[0m\u001b[1;33m)\u001b[0m\u001b[1;33m\u001b[0m\u001b[1;33m\u001b[0m\u001b[0m\n\u001b[0m\u001b[0;32m      8\u001b[0m     \u001b[1;32melse\u001b[0m\u001b[1;33m:\u001b[0m\u001b[1;33m\u001b[0m\u001b[1;33m\u001b[0m\u001b[0m\n\u001b[0;32m      9\u001b[0m \u001b[1;33m\u001b[0m\u001b[0m\n",
      "\u001b[1;31mException\u001b[0m: Number not in Tuple!"
     ]
    }
   ],
   "source": [
    "# When the number is not in Tuple\n",
    "\n",
    "tup = (5, 2, 3, 3, 4, 2, 1, 3, 4, 5, 2, 1, 2)\n",
    "num = 99\n",
    "\n",
    "number_of_occurences(tup, num)"
   ]
  },
  {
   "cell_type": "code",
   "execution_count": null,
   "id": "brazilian-immigration",
   "metadata": {},
   "outputs": [],
   "source": []
  }
 ],
 "metadata": {
  "kernelspec": {
   "display_name": "Python 3 (ipykernel)",
   "language": "python",
   "name": "python3"
  },
  "language_info": {
   "codemirror_mode": {
    "name": "ipython",
    "version": 3
   },
   "file_extension": ".py",
   "mimetype": "text/x-python",
   "name": "python",
   "nbconvert_exporter": "python",
   "pygments_lexer": "ipython3",
   "version": "3.9.12"
  }
 },
 "nbformat": 4,
 "nbformat_minor": 5
}
