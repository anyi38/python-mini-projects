{
 "cells": [
  {
   "cell_type": "markdown",
   "id": "infectious-jacket",
   "metadata": {},
   "source": [
    "## [10 Questions] QUIZ - Tuple"
   ]
  },
  {
   "cell_type": "markdown",
   "id": "emotional-quebec",
   "metadata": {},
   "source": [
    "**Q 1:**\n",
    "\n",
    "Define a function named **create_tuple**.\n",
    "\n",
    "It will create a tuple of numbers from 1 to 10.\n",
    "\n",
    "Then it will add numbers from 11 to 20 to this tuple.\n",
    "\n",
    "And it will return the final form of the tuple.\n",
    "\n",
    "**Hints:**\n",
    "* Tuples are Immutable. So how do you add elements to a Tuple?\n",
    "* use `for` loop\n",
    "* `range()`\n",
    "\n",
    "<pre style=\"background: gold;\">\n",
    "Result: (1, 2, 3, 4, 5, 6, 7, 8, 9, 10, 11, 12, 13, 14, 15, 16, 17, 18, 19, 20)\n",
    "</pre>"
   ]
  },
  {
   "cell_type": "code",
   "execution_count": 13,
   "id": "floral-remedy",
   "metadata": {},
   "outputs": [
    {
     "data": {
      "text/plain": [
       "(1, 2, 3, 4, 5, 6, 7, 8, 9, 10, 11, 12, 13, 14, 15, 16, 17, 18, 19, 20)"
      ]
     },
     "execution_count": 13,
     "metadata": {},
     "output_type": "execute_result"
    }
   ],
   "source": [
    "# S 1:\n",
    "def create_tuple():\n",
    "    \n",
    "    #create a tuple\n",
    "    add_numbers= (11,12,13,14,15,16,17,18,19,20)\n",
    "    \n",
    "    #create empty list\n",
    "    numbers = []\n",
    "    \n",
    "    #add items\n",
    "    for i in range(1,11):\n",
    "        numbers.append(i)\n",
    "        \n",
    "        #create a new temp tuple\n",
    "        num = tuple(numbers)\n",
    "        \n",
    "        #create a the new tuple via addition\n",
    "        tup = num + add_numbers\n",
    "    \n",
    "    return tup\n",
    "\n",
    "create_tuple()"
   ]
  },
  {
   "cell_type": "markdown",
   "id": "solved-reconstruction",
   "metadata": {},
   "source": [
    "---"
   ]
  },
  {
   "cell_type": "markdown",
   "id": "veterinary-wilderness",
   "metadata": {},
   "source": [
    "**Q 2:**\n",
    "\n",
    "Define a function named **tuple_to_string**.\n",
    "\n",
    "It will take a Tuple as parameter and convert it into a String.\n",
    "\n",
    "Then it will return this String.\n",
    "\n",
    "**Hints:**\n",
    "* `join()`\n",
    "\n",
    "<pre style=\"background: gold;\">\n",
    "Parameter:\n",
    "t = ('M', 'a', 'c', 'h', 'i', 'n', 'e', ' ', 'L', 'e', 'a', 'r', 'n', 'i', 'n', 'g')\n",
    "\n",
    "Expected Output: Machine Learning\n",
    "</pre>"
   ]
  },
  {
   "cell_type": "code",
   "execution_count": 38,
   "id": "opposed-trial",
   "metadata": {},
   "outputs": [
    {
     "data": {
      "text/plain": [
       "'Machine Learning'"
      ]
     },
     "execution_count": 38,
     "metadata": {},
     "output_type": "execute_result"
    }
   ],
   "source": [
    "# S 2:\n",
    "def tuple_to_string(tup):\n",
    "    str = ''.join(tup)\n",
    "    return str\n",
    "\n",
    "tup=('M', 'a', 'c', 'h', 'i', 'n', 'e', ' ', 'L', 'e', 'a', 'r', 'n', 'i', 'n', 'g')\n",
    "\n",
    "tuple_to_string(tup)"
   ]
  },
  {
   "cell_type": "code",
   "execution_count": 40,
   "id": "2d782787-5a5a-46f9-9e11-b660a39c55bc",
   "metadata": {},
   "outputs": [
    {
     "data": {
      "text/plain": [
       "'hello how are you'"
      ]
     },
     "execution_count": 40,
     "metadata": {},
     "output_type": "execute_result"
    }
   ],
   "source": [
    "tup=('h', 'e', 'l', 'l', 'o', ' ', 'h', 'o', 'w', ' ', 'a', 'r', 'e', ' ', 'y','o','u')\n",
    "\n",
    "tuple_to_string(tup)"
   ]
  },
  {
   "cell_type": "markdown",
   "id": "novel-bracelet",
   "metadata": {},
   "source": [
    "---"
   ]
  },
  {
   "cell_type": "markdown",
   "id": "planned-burlington",
   "metadata": {},
   "source": [
    "**Q 3:**\n",
    "\n",
    "Define a function named **string_to_list_to_tuple**.\n",
    "\n",
    "It will take String as parameter.\n",
    "\n",
    "First it will convert this String into a List, then it will convert this List into a Tuple.\n",
    "\n",
    "Finally it will return the Tuple.\n",
    "\n",
    "**Hints:**\n",
    "* only use `constructor` methods\n",
    "    * list()\n",
    "    * tuple()\n",
    "    \n",
    "<pre style=\"background: gold;\">\n",
    "Parameter:\n",
    "pythons_father = 'Guido van Rossum'\n",
    "\n",
    "Expected Result: ('G', 'u', 'i', 'd', 'o', ' ', 'v', 'a', 'n', ' ', 'R', 'o', 's', 's', 'u', 'm')\n",
    "</pre>"
   ]
  },
  {
   "cell_type": "code",
   "execution_count": 14,
   "id": "periodic-initial",
   "metadata": {},
   "outputs": [
    {
     "name": "stdout",
     "output_type": "stream",
     "text": [
      "('h', 'e', 'l', 'l', 'o', ',', ' ', 'h', 'o', 'w', ' ', 'a', 'r', 'e', ' ', 'y', 'o', 'u')\n"
     ]
    }
   ],
   "source": [
    "# S 3:\n",
    "def string_to_list_to_tuple(pythons_father):\n",
    "    \n",
    "    # first String -> List\n",
    "    list_ = list(pythons_father)\n",
    "    \n",
    "    # now List -> Tuple\n",
    "    tup = tuple(list_)\n",
    "    \n",
    "    return tup\n",
    "\n",
    "pythons_father = \"hello, how are you\"\n",
    "\n",
    "tup = string_to_list_to_tuple(pythons_father) \n",
    "\n",
    "print(tup)"
   ]
  },
  {
   "cell_type": "code",
   "execution_count": 15,
   "id": "sporting-potato",
   "metadata": {},
   "outputs": [
    {
     "name": "stdout",
     "output_type": "stream",
     "text": [
      "('G', 'u', 'i', 'd', 'o', ' ', 'v', 'a', 'n', ' ', 'R', 'o', 's', 's', 'u', 'm')\n"
     ]
    }
   ],
   "source": [
    "pythons_father = 'Guido van Rossum'\n",
    "\n",
    "father_tuple = string_to_list_to_tuple(pythons_father)\n",
    "\n",
    "print(father_tuple)"
   ]
  },
  {
   "cell_type": "markdown",
   "id": "danish-detail",
   "metadata": {},
   "source": [
    "---"
   ]
  },
  {
   "cell_type": "markdown",
   "id": "studied-uganda",
   "metadata": {},
   "source": [
    "**Q 4:**\n",
    "\n",
    "Define a function named **how_many_instances**.\n",
    "\n",
    "It will take a Tuple and an index (int) as parameter.\n",
    "\n",
    "Function will first find the element at that index.\n",
    "\n",
    "Then it will return the number of instances of the element in the Tuple.\n",
    "\n",
    "**Hints:**\n",
    "* count()\n",
    "\n",
    "<pre style=\"background: gold;\">\n",
    "Parameters:\n",
    "t = (5, 2, 3, 3, 4, 2, 1, 3, 4, 5, 2, 1, 2)\n",
    "i = 1\n",
    "\n",
    "how_many_instances(t, i)\n",
    "\n",
    "Expected Output: 4\n",
    "</pre>"
   ]
  },
  {
   "cell_type": "markdown",
   "id": "4e9f5120-2a0e-4e85-b541-2707c5ac7309",
   "metadata": {},
   "source": [
    "function returning a function\n",
    "raise\n",
    "index()"
   ]
  },
  {
   "cell_type": "code",
   "execution_count": 20,
   "id": "20c1bd6a-2a99-4964-854e-3fb6e5c3a55e",
   "metadata": {},
   "outputs": [
    {
     "data": {
      "text/plain": [
       "4"
      ]
     },
     "execution_count": 20,
     "metadata": {},
     "output_type": "execute_result"
    }
   ],
   "source": [
    "def how_many_instances(tup, i_nd):\n",
    "    \n",
    "    # get the element at index\n",
    "    elem = tup[i_nd]\n",
    "    \n",
    "    #return count\n",
    "    return tup.count(elem)\n",
    "\n",
    "tup = (5, 2, 3, 3, 4, 2, 1, 3, 4, 5, 2, 1, 2)\n",
    "\n",
    "i_nd = 1\n",
    "\n",
    "how_many_instances(tup, i_nd)"
   ]
  },
  {
   "cell_type": "code",
   "execution_count": 37,
   "id": "60f004e0-a359-4b0c-aaf8-e0cd24b4a844",
   "metadata": {},
   "outputs": [
    {
     "data": {
      "text/plain": [
       "3"
      ]
     },
     "execution_count": 37,
     "metadata": {},
     "output_type": "execute_result"
    }
   ],
   "source": [
    "tup = (5, 2, 3, 3, 4, 2, 1, 3, 4, 5, 2, 1, 2)\n",
    "\n",
    "i_nd = 7\n",
    "\n",
    "how_many_instances(tup, i_nd)"
   ]
  },
  {
   "cell_type": "markdown",
   "id": "gothic-values",
   "metadata": {},
   "source": [
    "---"
   ]
  },
  {
   "cell_type": "code",
   "execution_count": null,
   "id": "06d7a8f8-b0c4-47b8-9993-cf9693300ec4",
   "metadata": {},
   "outputs": [],
   "source": []
  },
  {
   "cell_type": "markdown",
   "id": "cleared-analysis",
   "metadata": {},
   "source": [
    "**Q 5:**\n",
    "\n",
    "Slicing Operations in Tuples are exactly the same as in Lists and Strings.\n",
    "\n",
    "Our Tuple is:\n",
    "\n",
    "<pre> tup = ('a', 'b', 'c', 'd', 'e', 'f', 'g', 'h', 'i', 'j') </pre>\n",
    "\n",
    "Find the items in tup, based on slicing and indexing:\n",
    "1. items from position 4 (inc) to position 7 (inc)\n",
    "2. the first 5 items\n",
    "3. items from position 6 (inc)\n",
    "4. all items\n",
    "5. 2nd item from the last\n",
    "6. last 4 items\n",
    "7. items from position 2 to 8, with step size 2\n",
    "8. all items with step size 3\n",
    "9. items from position 9 to position 3 (exc) but in reverse order\n",
    "10. print the tup in reverse order\n",
    "11. print the tup in reverse order with step size 2\n",
    "12. all the elements excluding the last one, with negative index"
   ]
  },
  {
   "cell_type": "code",
   "execution_count": 41,
   "id": "altered-shock",
   "metadata": {},
   "outputs": [
    {
     "data": {
      "text/plain": [
       "('a', 'b', 'c', 'd', 'e', 'f', 'g', 'h', 'i', 'j')"
      ]
     },
     "execution_count": 41,
     "metadata": {},
     "output_type": "execute_result"
    }
   ],
   "source": [
    "# S:\n",
    "\n",
    "tup = ('a', 'b', 'c', 'd', 'e', 'f', 'g', 'h', 'i', 'j') \n",
    "tup"
   ]
  },
  {
   "cell_type": "code",
   "execution_count": 42,
   "id": "threatened-punishment",
   "metadata": {},
   "outputs": [
    {
     "data": {
      "text/plain": [
       "('d', 'e', 'f', 'g')"
      ]
     },
     "execution_count": 42,
     "metadata": {},
     "output_type": "execute_result"
    }
   ],
   "source": [
    "# 1. items from position 4 (inc) to position 7 (inc)\n",
    "# position 4 -> index 3\n",
    "# position 7 -> index 6  (since it is included the end index will be 7)\n",
    "\n",
    "tup[3:7]"
   ]
  },
  {
   "cell_type": "code",
   "execution_count": 207,
   "id": "fleet-prediction",
   "metadata": {},
   "outputs": [
    {
     "data": {
      "text/plain": [
       "('a', 'b', 'c', 'd', 'e')"
      ]
     },
     "execution_count": 207,
     "metadata": {},
     "output_type": "execute_result"
    }
   ],
   "source": [
    "# 2. the first 5 items\n",
    "\n",
    "tup[0:5]"
   ]
  },
  {
   "cell_type": "code",
   "execution_count": 23,
   "id": "proud-sword",
   "metadata": {},
   "outputs": [
    {
     "data": {
      "text/plain": [
       "('f', 'g', 'h', 'i', 'j')"
      ]
     },
     "execution_count": 23,
     "metadata": {},
     "output_type": "execute_result"
    }
   ],
   "source": [
    "# 3. items from position 6 (inc)\n",
    "\n",
    "tup[-5:]"
   ]
  },
  {
   "cell_type": "code",
   "execution_count": 26,
   "id": "straight-rochester",
   "metadata": {},
   "outputs": [
    {
     "data": {
      "text/plain": [
       "('a', 'b', 'c', 'd', 'e', 'f', 'g', 'h', 'i', 'j')"
      ]
     },
     "execution_count": 26,
     "metadata": {},
     "output_type": "execute_result"
    }
   ],
   "source": [
    "# 4. all items\n",
    "\n",
    "new_tup = tup[::]\n",
    "new_tup"
   ]
  },
  {
   "cell_type": "code",
   "execution_count": 18,
   "id": "written-liberia",
   "metadata": {},
   "outputs": [
    {
     "data": {
      "text/plain": [
       "'i'"
      ]
     },
     "execution_count": 18,
     "metadata": {},
     "output_type": "execute_result"
    }
   ],
   "source": [
    "# 5. 2nd item from the last\n",
    "\n",
    "tup[-2]"
   ]
  },
  {
   "cell_type": "code",
   "execution_count": 22,
   "id": "golden-found",
   "metadata": {},
   "outputs": [
    {
     "data": {
      "text/plain": [
       "('g', 'h', 'i', 'j')"
      ]
     },
     "execution_count": 22,
     "metadata": {},
     "output_type": "execute_result"
    }
   ],
   "source": [
    "# 6. last 4 items\n",
    "\n",
    "tup[-4:]"
   ]
  },
  {
   "cell_type": "code",
   "execution_count": 24,
   "id": "adaptive-township",
   "metadata": {},
   "outputs": [
    {
     "data": {
      "text/plain": [
       "('b', 'd', 'f', 'h')"
      ]
     },
     "execution_count": 24,
     "metadata": {},
     "output_type": "execute_result"
    }
   ],
   "source": [
    "# 7. items from position 2 to 8, with step size 2\n",
    "\n",
    "tup[1:9:2]"
   ]
  },
  {
   "cell_type": "code",
   "execution_count": 25,
   "id": "curious-breast",
   "metadata": {},
   "outputs": [
    {
     "data": {
      "text/plain": [
       "('a', 'd', 'g', 'j')"
      ]
     },
     "execution_count": 25,
     "metadata": {},
     "output_type": "execute_result"
    }
   ],
   "source": [
    "# 8. all items with step size 3\n",
    "\n",
    "tup[::3]"
   ]
  },
  {
   "cell_type": "code",
   "execution_count": 43,
   "id": "verbal-fifth",
   "metadata": {},
   "outputs": [
    {
     "data": {
      "text/plain": [
       "('i', 'h', 'g', 'f', 'e', 'd')"
      ]
     },
     "execution_count": 43,
     "metadata": {},
     "output_type": "execute_result"
    }
   ],
   "source": [
    "# 9. items from position 9 to position 3 (exc) but in reverse order\n",
    "\n",
    "inv_tup = tup[8:2:-1]\n",
    "\n",
    "inv_tup"
   ]
  },
  {
   "cell_type": "code",
   "execution_count": 44,
   "id": "welsh-damages",
   "metadata": {},
   "outputs": [
    {
     "data": {
      "text/plain": [
       "('j', 'i', 'h', 'g', 'f', 'e', 'd', 'c', 'b', 'a')"
      ]
     },
     "execution_count": 44,
     "metadata": {},
     "output_type": "execute_result"
    }
   ],
   "source": [
    "# 10. print the tup in reverse order\n",
    "\n",
    "inv_tup = tup[::-1]\n",
    "inv_tup"
   ]
  },
  {
   "cell_type": "code",
   "execution_count": 45,
   "id": "moral-therapy",
   "metadata": {},
   "outputs": [
    {
     "data": {
      "text/plain": [
       "('j', 'h', 'f', 'd', 'b')"
      ]
     },
     "execution_count": 45,
     "metadata": {},
     "output_type": "execute_result"
    }
   ],
   "source": [
    "# 11. print the tup in reverse order with step size 2\n",
    "\n",
    "inv_tup = tup[9::-2]\n",
    "inv_tup"
   ]
  },
  {
   "cell_type": "code",
   "execution_count": 46,
   "id": "starting-fishing",
   "metadata": {},
   "outputs": [
    {
     "data": {
      "text/plain": [
       "('a', 'b', 'c', 'd', 'e', 'f', 'g', 'h', 'i')"
      ]
     },
     "execution_count": 46,
     "metadata": {},
     "output_type": "execute_result"
    }
   ],
   "source": [
    "# 12. all the elements excluding the last one, with negative index\n",
    "\n",
    "new_tup = tup[-10:-1:1]\n",
    "new_tup"
   ]
  },
  {
   "cell_type": "markdown",
   "id": "direct-gothic",
   "metadata": {},
   "source": [
    "---"
   ]
  },
  {
   "cell_type": "markdown",
   "id": "electrical-guarantee",
   "metadata": {},
   "source": [
    "**Q 6:**\n",
    "\n",
    "Define a function named **change_tuple_ending**.\n",
    "\n",
    "It will take a List as parameter.\n",
    "\n",
    "The elements of this list will be Tuples.\n",
    "\n",
    "Each Tuple may be in different length, so the size of the elements in the list is not fixed.\n",
    "\n",
    "The function will replace the last item in each Tuple element in the list with its square.\n",
    "\n",
    "**Hints:**\n",
    "* Mutate the original list (the parameter list will change in-place)\n",
    "* How can you get last element in a Tuple?\n",
    "* How to mutate the list, while looping over it?\n",
    "* You need to find a way to mutate the list (enumerate())\n",
    "* How to create a Tuple with single element?\n",
    "\n",
    "<pre style=\"background: gold;\">\n",
    "Parameter:\n",
    "tuple_list = [(2,5,8), (4,3), (1,7,9,6), (5,)]\n",
    "\n",
    "Expected Output:\n",
    "tuple_list = [(2,5,64), (4,9), (1,7,9,36), (25,)]\n",
    "</pre>"
   ]
  },
  {
   "cell_type": "code",
   "execution_count": 21,
   "id": "champion-advance",
   "metadata": {},
   "outputs": [],
   "source": [
    "# S 6:\n",
    "def change_tuple_ending(a_list):\n",
    "    \n",
    "    for index, tup in enumerate(a_list):\n",
    "        \n",
    "        # get the tuple items up to the last one\n",
    "        items_up_to_last = tup[:-1]\n",
    "        \n",
    "        # last element -> square it\n",
    "        last_item = tup[-1]**2\n",
    "        \n",
    "        # concat them -> override tup\n",
    "        tup = items_up_to_last + (last_item,)\n",
    "        \n",
    "        # mutate the list -> change the current element\n",
    "        a_list[index] = tup"
   ]
  },
  {
   "cell_type": "code",
   "execution_count": 23,
   "id": "advance-vietnam",
   "metadata": {},
   "outputs": [
    {
     "name": "stdout",
     "output_type": "stream",
     "text": [
      "tuple_list before passing to function: [(2, 5, 8), (4, 3), (1, 7, 9, 6), (6,), (2, 16)]\n",
      "tuple_list after passing to function: [(2, 5, 64), (4, 9), (1, 7, 9, 36), (36,), (2, 256)]\n"
     ]
    }
   ],
   "source": [
    "tuple_list = [(2,5,8), (4,3), (1,7,9,6), (6,), (2, 16)]\n",
    "print('tuple_list before passing to function:', tuple_list)\n",
    "\n",
    "change_tuple_ending(tuple_list)\n",
    "print('tuple_list after passing to function:', tuple_list)"
   ]
  },
  {
   "cell_type": "markdown",
   "id": "monthly-payment",
   "metadata": {},
   "source": [
    "---"
   ]
  },
  {
   "cell_type": "markdown",
   "id": "private-classroom",
   "metadata": {},
   "source": [
    "**Q 7:**\n",
    "\n",
    "Define a function named **replace_tuple_with_sqaure**.\n",
    "\n",
    "It will taka a List as parameter.\n",
    "\n",
    "The items in this List are Tuples.\n",
    "\n",
    "Each Tuple may be in different length, so the size of the elements in the list is not fixed.\n",
    "\n",
    "The function will replace each element of Tuples with its square.\n",
    "\n",
    "And it will return the new list of squared Tuples.\n",
    "\n",
    "**Hint:**\n",
    "* Do not change the parameter\n",
    "* How to mutate the list while looping over it?\n",
    "\n",
    "<pre style=\"background: gold;\">\n",
    "Parameter:\n",
    "tuple_liste = [(2,5,8), (4,3), (1,7,9,6), (5,)]\n",
    "\n",
    "Expected Output:\n",
    "new_tuple_list = [(4,25,64), (16,9), (1,49,81,36), (25,)]\n",
    "</pre>"
   ]
  },
  {
   "cell_type": "code",
   "execution_count": 26,
   "id": "several-contrast",
   "metadata": {},
   "outputs": [
    {
     "name": "stdout",
     "output_type": "stream",
     "text": [
      "tuple_list: [(4, 5, 8), (4, 7), (2, 7, 9, 6), (5,), (10, 11)]\n",
      "new_tuple_list: [[16, 25, 64], [16, 49], [4, 49, 81, 36], [25], [100, 121]]\n"
     ]
    }
   ],
   "source": [
    "# S 7:\n",
    "def replace_tuple_with_sqaure(tuple_list):\n",
    "    \n",
    "    #comprehension\n",
    "    #loop over the tup items\n",
    "    # mutate the list\n",
    "    new_list = ([[y**2 for y in x] for x in tuple_list])\n",
    "    \n",
    "    return new_list\n",
    "\n",
    "\n",
    "tuple_list = [(4,5,8), (4,7), (2,7,9,6), (5,), (10,11)]\n",
    "\n",
    "new_tuple_list = replace_tuple_with_sqaure(tuple_list)\n",
    "\n",
    "print('tuple_list:', tuple_list)\n",
    "print('new_tuple_list:', new_tuple_list)"
   ]
  },
  {
   "cell_type": "code",
   "execution_count": 25,
   "id": "excessive-broadcast",
   "metadata": {},
   "outputs": [
    {
     "name": "stdout",
     "output_type": "stream",
     "text": [
      "tuple_list: [(2, 5, 8), (4, 3), (1, 7, 9, 6), (5,)]\n",
      "new_tuple_list: [[4, 25, 64], [16, 9], [1, 49, 81, 36], [25]]\n"
     ]
    }
   ],
   "source": [
    "tuple_list = [(2,5,8), (4,3), (1,7,9,6), (5,)]\n",
    "\n",
    "new_tuple_list = replace_tuple_with_sqaure(tuple_list)\n",
    "\n",
    "print('tuple_list:', tuple_list)\n",
    "print('new_tuple_list:', new_tuple_list)"
   ]
  },
  {
   "cell_type": "markdown",
   "id": "engaging-circular",
   "metadata": {},
   "source": [
    "---"
   ]
  },
  {
   "cell_type": "markdown",
   "id": "adjustable-commission",
   "metadata": {},
   "source": [
    "**Q 8:**\n",
    "\n",
    "Define a function named **movie_characters**.\n",
    "\n",
    "It will take 4 lists as parameters.\n",
    "\n",
    "4 lists:\n",
    "* List 1 -> Actor/Actress Name\n",
    "* List 2 -> Movie Title\n",
    "* List 3 -> Release Year\n",
    "* List 4 -> Character Name\n",
    "\n",
    "Function will take these 4 lists and create 2 Tuples out of them.\n",
    "\n",
    "Each Tuple will have 2 elements.\n",
    "* Tuple 1 -> (Actor/Actress Name, Character Name)\n",
    "* Tuple 2 -> (Movie Title, Release Year)\n",
    "\n",
    "It will use the Tuple 1 as the Key and Tuple 2 as the Value and craete a Dictionary.\n",
    "\n",
    "And it will return this dictionary.\n",
    "\n",
    "**Hints:**\n",
    "* `zip()`\n",
    "\n",
    "<pre style=\"background: gold\">\n",
    "Parameters:\n",
    "actors = ['Marlon Brando', 'Heath Ledger', 'Natalie Portman', 'Emma Stone']\n",
    "characters = ['Don Vito Corleone', 'Joker', 'The Swan Queen', 'Mia']\n",
    "movies = ['The Godfather', 'The Dark Knight', 'Black Swan', 'La La Land']\n",
    "years = [1972, 2008, 2010, 2016]\n",
    "\n",
    "Expected Output:\n",
    "{('Marlon Brando', 'Don Vito Corleone'): ('The Godfather', 1972),\n",
    " ('Heath Ledger', 'Joker'): ('The Dark Knight', 2008),\n",
    " ('Natalie Portman', 'The Swan Queen'): ('Black Swan', 2010),\n",
    " ('Emma Stone', 'Mia'): ('La La Land', 2016)}\n",
    "</pre>"
   ]
  },
  {
   "cell_type": "code",
   "execution_count": 28,
   "id": "effective-comment",
   "metadata": {},
   "outputs": [],
   "source": [
    "# S 8:\n",
    "def movie_characters(actors, characters, movies, years):\n",
    "    \n",
    "    # empty dict\n",
    "    movie_dict = {}\n",
    "    \n",
    "    # loop over the 4 list simultaniously -> zip()\n",
    "    for a, c, m, y in zip(actors, characters, movies, years):\n",
    "        \n",
    "        # create and add tuples into dictionary\n",
    "        movie_dict[(a, c)] = m, y\n",
    "        \n",
    "    return movie_dict\n",
    "\n"
   ]
  },
  {
   "cell_type": "code",
   "execution_count": 29,
   "id": "recognized-clark",
   "metadata": {},
   "outputs": [
    {
     "data": {
      "text/plain": [
       "{('Marlon Brando', 'Don Vito Corleone'): ('The Godfather', 1972),\n",
       " ('Heath Ledger', 'Joker'): ('The Dark Knight', 2008),\n",
       " ('Natalie Portman', 'The Swan Queen'): ('Black Swan', 2010),\n",
       " ('Emma Stone', 'Mia'): ('La La Land', 2016)}"
      ]
     },
     "execution_count": 29,
     "metadata": {},
     "output_type": "execute_result"
    }
   ],
   "source": [
    "# lists:\n",
    "actors = ['Marlon Brando', 'Heath Ledger', 'Natalie Portman', 'Emma Stone']\n",
    "characters = ['Don Vito Corleone', 'Joker', 'The Swan Queen', 'Mia']\n",
    "movies = ['The Godfather', 'The Dark Knight', 'Black Swan', 'La La Land']\n",
    "years = [1972, 2008, 2010, 2016]\n",
    "\n",
    "# call the functions\n",
    "movie_update = movie_characters(actors, characters, movies, years)\n",
    "\n",
    "movie_update"
   ]
  },
  {
   "cell_type": "markdown",
   "id": "assured-scout",
   "metadata": {},
   "source": [
    "---"
   ]
  },
  {
   "cell_type": "markdown",
   "id": "pharmaceutical-shift",
   "metadata": {},
   "source": [
    "**Q 9:**\n",
    "\n",
    "Define a function named **sort_tuple_of_tuples**.\n",
    "\n",
    "It will take a Tuple as the parameter.\n",
    "\n",
    "The elements inside this Tuple are also Tuples.\n",
    "\n",
    "Namely, the parameter is a Tuple of Tuples.\n",
    "\n",
    "Each Tuple element contains 2 items.\n",
    "\n",
    "The function will sort the main Tuple and return a sorted Tuple.\n",
    "\n",
    "Sort Rule is going to be the second element in the inner Tuples.\n",
    "\n",
    "**Hints:**\n",
    "* `lambda`\n",
    "\n",
    "<pre style=\"background: gold\">\n",
    "Parameter:\n",
    "tuple_of_tuples = (('a', 12), ('e', 8), ('b', 16), ('c', 22))\n",
    "\n",
    "Expected Output:\n",
    "[('e', 8), ('a', 12), ('b', 16), ('c', 22)]\n",
    "</pre>"
   ]
  },
  {
   "cell_type": "code",
   "execution_count": 30,
   "id": "different-glossary",
   "metadata": {},
   "outputs": [
    {
     "data": {
      "text/plain": [
       "(('e', 4), ('c', 12), ('b', 16), ('a', 22))"
      ]
     },
     "execution_count": 30,
     "metadata": {},
     "output_type": "execute_result"
    }
   ],
   "source": [
    "# S 9:\n",
    "\n",
    "\n",
    "def sort_tuple_of_tuples(tuple_of_tuples):\n",
    "    \n",
    "    # print(tuple_of_tuples[3][0])\n",
    "    \n",
    "    # x -> ('c', 22) \n",
    "    # x[1] -> 22\n",
    "    return tuple(sorted(tuple_of_tuples, key = lambda x:x[1]))\n",
    "\n",
    "\n",
    "tuple_of_tuples = (('a', 22), ('e', 4), ('b', 16), ('c', 12))\n",
    "\n",
    "sort_tuple_of_tuples(tuple_of_tuples)"
   ]
  },
  {
   "cell_type": "code",
   "execution_count": 31,
   "id": "sitting-omaha",
   "metadata": {},
   "outputs": [
    {
     "data": {
      "text/plain": [
       "(('e', 8), ('a', 12), ('b', 16), ('c', 22))"
      ]
     },
     "execution_count": 31,
     "metadata": {},
     "output_type": "execute_result"
    }
   ],
   "source": [
    "tuple_of_tuples = (('a', 12), ('e', 8), ('b', 16), ('c', 22))\n",
    "\n",
    "sorted_tuple = sort_tuple_of_tuples(tuple_of_tuples)\n",
    "\n",
    "sorted_tuple"
   ]
  },
  {
   "cell_type": "markdown",
   "id": "cathedral-norman",
   "metadata": {},
   "source": [
    "---"
   ]
  },
  {
   "cell_type": "markdown",
   "id": "correct-shower",
   "metadata": {},
   "source": [
    "**Q 10:**\n",
    "\n",
    "Define a function named **number_of_occurences**.\n",
    "\n",
    "It will take Tuple of integers and a number as parameters.\n",
    "\n",
    "It will return the number of occurences of that number in the Tuple.\n",
    "\n",
    "It will use the function defined in Q4 (how_many_instances) to find the count. (It will not do the counting itself.)\n",
    "\n",
    "If the number does not exist in the Tuple, it will return: 'Number not in Tuple!'.\n",
    "\n",
    "**Hints:**\n",
    "* function returning a function\n",
    "* raise\n",
    "* index()\n",
    "\n",
    "<pre style=\"background: gold\">\n",
    "Parameters:\n",
    "tup = (5, 2, 3, 3, 4, 2, 1, 3, 4, 5, 2, 1, 2)\n",
    "num = 2\n",
    "\n",
    "Expected Output:\n",
    "4\n",
    "</pre>"
   ]
  },
  {
   "cell_type": "code",
   "execution_count": 33,
   "id": "black-picking",
   "metadata": {},
   "outputs": [
    {
     "data": {
      "text/plain": [
       "3"
      ]
     },
     "execution_count": 33,
     "metadata": {},
     "output_type": "execute_result"
    }
   ],
   "source": [
    "# S 10:\n",
    "def number_of_occurences(tup, num):\n",
    "    \n",
    "    for i in tup:\n",
    "        i==num\n",
    "        \n",
    "        # check if the num is in tup\n",
    "        if num not in tup:\n",
    "             raise Exception('Number not in Tuple!')\n",
    "        else:\n",
    "            # return the function\n",
    "            return tup.count(num)\n",
    "        \n",
    "                \n",
    "tup = (5, 2, 3, 3, 4, 2, 1, 3, 4, 5, 2, 1, 2, 6, 3, 9, 5, 9, 9)\n",
    "\n",
    "num = 9\n",
    "\n",
    "number_of_occurences(tup, num)   "
   ]
  },
  {
   "cell_type": "code",
   "execution_count": 34,
   "id": "identified-sustainability",
   "metadata": {},
   "outputs": [
    {
     "data": {
      "text/plain": [
       "4"
      ]
     },
     "execution_count": 34,
     "metadata": {},
     "output_type": "execute_result"
    }
   ],
   "source": [
    "tup = (5, 2, 3, 3, 4, 2, 1, 3, 4, 5, 2, 1, 2)\n",
    "\n",
    "num = 2\n",
    "\n",
    "number_of_occurences(tup, num)"
   ]
  },
  {
   "cell_type": "code",
   "execution_count": 35,
   "id": "coated-chair",
   "metadata": {},
   "outputs": [
    {
     "data": {
      "text/plain": [
       "3"
      ]
     },
     "execution_count": 35,
     "metadata": {},
     "output_type": "execute_result"
    }
   ],
   "source": [
    "tup = (5, 2, 3, 3, 4, 2, 1, 3, 4, 5, 2, 1, 2, 5)\n",
    "num = 5\n",
    "\n",
    "number_of_occurences(tup, num)"
   ]
  },
  {
   "cell_type": "code",
   "execution_count": 36,
   "id": "overhead-plastic",
   "metadata": {},
   "outputs": [
    {
     "ename": "Exception",
     "evalue": "Number not in Tuple!",
     "output_type": "error",
     "traceback": [
      "\u001b[0;31m---------------------------------------------------------------------------\u001b[0m",
      "\u001b[0;31mException\u001b[0m                                 Traceback (most recent call last)",
      "Input \u001b[0;32mIn [36]\u001b[0m, in \u001b[0;36m<cell line: 6>\u001b[0;34m()\u001b[0m\n\u001b[1;32m      3\u001b[0m tup \u001b[38;5;241m=\u001b[39m (\u001b[38;5;241m5\u001b[39m, \u001b[38;5;241m2\u001b[39m, \u001b[38;5;241m3\u001b[39m, \u001b[38;5;241m3\u001b[39m, \u001b[38;5;241m4\u001b[39m, \u001b[38;5;241m2\u001b[39m, \u001b[38;5;241m1\u001b[39m, \u001b[38;5;241m3\u001b[39m, \u001b[38;5;241m4\u001b[39m, \u001b[38;5;241m5\u001b[39m, \u001b[38;5;241m2\u001b[39m, \u001b[38;5;241m1\u001b[39m, \u001b[38;5;241m2\u001b[39m)\n\u001b[1;32m      4\u001b[0m num \u001b[38;5;241m=\u001b[39m \u001b[38;5;241m99\u001b[39m\n\u001b[0;32m----> 6\u001b[0m \u001b[43mnumber_of_occurences\u001b[49m\u001b[43m(\u001b[49m\u001b[43mtup\u001b[49m\u001b[43m,\u001b[49m\u001b[43m \u001b[49m\u001b[43mnum\u001b[49m\u001b[43m)\u001b[49m\n",
      "Input \u001b[0;32mIn [33]\u001b[0m, in \u001b[0;36mnumber_of_occurences\u001b[0;34m(tup, num)\u001b[0m\n\u001b[1;32m      7\u001b[0m \u001b[38;5;66;03m# check if the num is in tup\u001b[39;00m\n\u001b[1;32m      8\u001b[0m \u001b[38;5;28;01mif\u001b[39;00m num \u001b[38;5;129;01mnot\u001b[39;00m \u001b[38;5;129;01min\u001b[39;00m tup:\n\u001b[0;32m----> 9\u001b[0m      \u001b[38;5;28;01mraise\u001b[39;00m \u001b[38;5;167;01mException\u001b[39;00m(\u001b[38;5;124m'\u001b[39m\u001b[38;5;124mNumber not in Tuple!\u001b[39m\u001b[38;5;124m'\u001b[39m)\n\u001b[1;32m     10\u001b[0m \u001b[38;5;28;01melse\u001b[39;00m:\n\u001b[1;32m     11\u001b[0m     \u001b[38;5;66;03m# return the function\u001b[39;00m\n\u001b[1;32m     12\u001b[0m     \u001b[38;5;28;01mreturn\u001b[39;00m tup\u001b[38;5;241m.\u001b[39mcount(num)\n",
      "\u001b[0;31mException\u001b[0m: Number not in Tuple!"
     ]
    }
   ],
   "source": [
    "# When the number is not in Tuple\n",
    "\n",
    "tup = (5, 2, 3, 3, 4, 2, 1, 3, 4, 5, 2, 1, 2)\n",
    "num = 99\n",
    "\n",
    "number_of_occurences(tup, num)"
   ]
  }
 ],
 "metadata": {
  "kernelspec": {
   "display_name": "Python 3 (ipykernel)",
   "language": "python",
   "name": "python3"
  },
  "language_info": {
   "codemirror_mode": {
    "name": "ipython",
    "version": 3
   },
   "file_extension": ".py",
   "mimetype": "text/x-python",
   "name": "python",
   "nbconvert_exporter": "python",
   "pygments_lexer": "ipython3",
   "version": "3.9.12"
  }
 },
 "nbformat": 4,
 "nbformat_minor": 5
}
